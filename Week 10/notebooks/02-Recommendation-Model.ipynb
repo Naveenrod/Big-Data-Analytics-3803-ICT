{
 "cells": [
  {
   "cell_type": "markdown",
   "metadata": {},
   "source": [
    "# Recommendation - Model 🍿"
   ]
  },
  {
   "cell_type": "markdown",
   "metadata": {},
   "source": [
    "---"
   ]
  },
  {
   "cell_type": "markdown",
   "metadata": {},
   "source": [
    "<img src=\"https://visithrastnik.si/uploads/tic/public/generic_list_item/6-kulturna_prireditev_v_avli_kulturnega_centra_zagorje_ob_savi.jpg\" />"
   ]
  },
  {
   "cell_type": "markdown",
   "metadata": {},
   "source": [
    "---"
   ]
  },
  {
   "cell_type": "markdown",
   "metadata": {},
   "source": [
    "Now, time for the exciting part! We will train a Machine Learning model based on our previous **ratings** sparse matrix, so that it creates a recommendation engine automatically! "
   ]
  },
  {
   "cell_type": "markdown",
   "metadata": {},
   "source": [
    "First, load again the dataframe `movies` and `ratings`"
   ]
  },
  {
   "cell_type": "code",
   "execution_count": 1,
   "metadata": {},
   "outputs": [
    {
     "name": "stdout",
     "output_type": "stream",
     "text": [
      "   movieId                               title   \n",
      "0        1                    Toy Story (1995)  \\\n",
      "1        2                      Jumanji (1995)   \n",
      "2        3             Grumpier Old Men (1995)   \n",
      "3        4            Waiting to Exhale (1995)   \n",
      "4        5  Father of the Bride Part II (1995)   \n",
      "\n",
      "                                        genres  \n",
      "0  Adventure|Animation|Children|Comedy|Fantasy  \n",
      "1                   Adventure|Children|Fantasy  \n",
      "2                               Comedy|Romance  \n",
      "3                         Comedy|Drama|Romance  \n",
      "4                                       Comedy  \n",
      "   userId  movieId  rating  timestamp\n",
      "0       1        1     4.0  964982703\n",
      "1       1        3     4.0  964981247\n",
      "2       1        6     4.0  964982224\n",
      "3       1       47     5.0  964983815\n",
      "4       1       50     5.0  964982931\n"
     ]
    }
   ],
   "source": [
    "### TODO: load the movies and ratings datasets\n",
    "import pandas as pd\n",
    "movies = pd.read_csv(\"ml-latest-small/movies.csv\")\n",
    "ratings = pd.read_csv(\"ml-latest-small/ratings.csv\")\n",
    "\n",
    "print(movies.head())\n",
    "print(ratings.head())"
   ]
  },
  {
   "cell_type": "markdown",
   "metadata": {},
   "source": [
    "**Q1**. Start by loading all the pickle you saved during last challenge: `ratings_matrix`, `idx_to_mid`, `mid_to_idx`, `uid_to_idx`, `idx_to_uid`"
   ]
  },
  {
   "cell_type": "code",
   "execution_count": 2,
   "metadata": {},
   "outputs": [],
   "source": [
    "import pickle\n",
    "ratings_matrix = pickle.load(open(\"data/ratings_matrix.pkl\", \"rb\"))\n",
    "idx_to_mid = pickle.load(open(\"data/idx_to_mid.pkl\", \"rb\"))\n",
    "mid_to_idx = pickle.load(open(\"data/mid_to_idx.pkl\", \"rb\"))\n",
    "uid_to_idx = pickle.load(open(\"data/uid_to_idx.pkl\", \"rb\"))\n",
    "idx_to_uid = pickle.load(open(\"data/idx_to_uid.pkl\", \"rb\"))"
   ]
  },
  {
   "cell_type": "markdown",
   "metadata": {},
   "source": [
    "**Q2**. Because the dataset is slightly different from what we have been used to (X as features, y as target), the usual `train_test_split` method from scikit-learn does not apply.\n",
    "\n",
    "Hopefully, `lightfm` comes with a `random_train_test_split` located into `cross_validation` dedicated to this usecase 🙂\n",
    "\n",
    "Split the data randomly into a `train` matrix and a `test` matrix with 20% of interactions into the test set."
   ]
  },
  {
   "cell_type": "code",
   "execution_count": 9,
   "metadata": {},
   "outputs": [
    {
     "name": "stdout",
     "output_type": "stream",
     "text": [
      "Collecting package metadata (current_repodata.json): done\n",
      "Solving environment: - \n",
      "The environment is inconsistent, please check the package plan carefully\n",
      "The following packages are causing the inconsistency:\n",
      "\n",
      "  - defaults/osx-64::holoviews==1.15.0=py39hecd8cb5_0\n",
      "  - defaults/noarch::conda-pack==0.6.0=pyhd3eb1b0_0\n",
      "  - defaults/noarch::tifffile==2021.7.2=pyhd3eb1b0_2\n",
      "  - defaults/osx-64::imageio==2.19.3=py39hecd8cb5_0\n",
      "  - defaults/osx-64::scikit-learn==1.0.2=py39hae1ba45_1\n",
      "  - defaults/osx-64::bottleneck==1.3.5=py39h67323c0_0\n",
      "  - defaults/noarch::nbclassic==0.3.5=pyhd3eb1b0_0\n",
      "  - defaults/noarch::cookiecutter==1.7.3=pyhd3eb1b0_0\n",
      "  - defaults/osx-64::scikit-image==0.19.2=py39hae1ba45_0\n",
      "  - defaults/osx-64::anaconda-project==0.11.1=py39hecd8cb5_0\n",
      "  - defaults/osx-64::datashape==0.5.4=py39hecd8cb5_1\n",
      "  - defaults/osx-64::mkl_random==1.2.2=py39hb2f4e1b_0\n",
      "  - defaults/noarch::backports.functools_lru_cache==1.6.4=pyhd3eb1b0_0\n",
      "  - defaults/osx-64::numexpr==2.8.3=py39h2e5f0a9_0\n",
      "  - defaults/osx-64::imagecodecs==2021.8.26=py39h0f85e6e_1\n",
      "  - defaults/noarch::pyls-spyder==0.4.0=pyhd3eb1b0_0\n",
      "  - defaults/osx-64::h5py==3.7.0=py39h4a1dd59_0\n",
      "  - defaults/osx-64::pywavelets==1.3.0=py39hca72f7f_0\n",
      "  - defaults/osx-64::scikit-learn-intelex==2021.6.0=py39hecd8cb5_0\n",
      "  - defaults/osx-64::numpy==1.21.5=py39h2e5f0a9_3\n",
      "  - defaults/osx-64::jupyterlab==3.4.4=py39hecd8cb5_0\n",
      "  - defaults/osx-64::datashader==0.14.1=py39hecd8cb5_0\n",
      "  - defaults/osx-64::anaconda==2022.10=py39_0\n",
      "  - defaults/osx-64::scrapy==2.6.2=py39hecd8cb5_0\n",
      "  - defaults/noarch::jinja2==2.11.3=pyhd3eb1b0_0\n",
      "  - defaults/osx-64::matplotlib==3.5.2=py39hecd8cb5_0\n",
      "  - defaults/osx-64::hvplot==0.8.0=py39hecd8cb5_0\n",
      "  - defaults/noarch::nltk==3.7=pyhd3eb1b0_0\n",
      "  - defaults/osx-64::python-lsp-black==1.2.1=py39hecd8cb5_0\n",
      "  - defaults/osx-64::bkcharts==0.2=py39hecd8cb5_1\n",
      "  - defaults/osx-64::qtconsole==5.3.2=py39hecd8cb5_0\n",
      "  - defaults/osx-64::ipython==7.31.1=py39hecd8cb5_1\n",
      "  - defaults/osx-64::patsy==0.5.2=py39hecd8cb5_1\n",
      "  - defaults/osx-64::conda-build==3.22.0=py39hecd8cb5_0\n",
      "  - defaults/osx-64::sphinx==5.0.2=py39hecd8cb5_0\n",
      "  - defaults/osx-64::bcrypt==3.2.0=py39hca72f7f_1\n",
      "  - defaults/osx-64::_ipyw_jlab_nb_ext_conf==0.1.0=py39hecd8cb5_1\n",
      "  - defaults/osx-64::matplotlib-base==3.5.2=py39hfb0c5b7_0\n",
      "  - defaults/noarch::conda-verify==3.4.2=py_1\n",
      "  - defaults/osx-64::python-lsp-server==1.5.0=py39hecd8cb5_0\n",
      "  - defaults/osx-64::statsmodels==0.13.2=py39hca72f7f_0\n",
      "  - defaults/osx-64::dask==2022.7.0=py39hecd8cb5_0\n",
      "  - defaults/osx-64::anaconda-navigator==2.3.1=py39hecd8cb5_0\n",
      "  - defaults/osx-64::jupyter_server==1.18.1=py39hecd8cb5_0\n",
      "  - defaults/noarch::jinja2-time==0.2.0=pyhd3eb1b0_3\n",
      "  - defaults/osx-64::anaconda-client==1.11.0=py39hecd8cb5_0\n",
      "  - defaults/osx-64::spyder-kernels==2.3.3=py39hecd8cb5_0\n",
      "  - defaults/noarch::jupyterlab_server==2.10.3=pyhd3eb1b0_1\n",
      "  - defaults/osx-64::nbconvert==6.4.4=py39hecd8cb5_0\n",
      "  - defaults/osx-64::gensim==4.1.2=py39he9d5cce_0\n",
      "  - defaults/osx-64::numpydoc==1.4.0=py39hecd8cb5_0\n",
      "  - defaults/osx-64::zope.interface==5.4.0=py39h9ed2024_0\n",
      "  - defaults/osx-64::numba==0.55.1=py39hae1ba45_0\n",
      "  - defaults/osx-64::pytables==3.6.1=py39h648f197_1\n",
      "  - defaults/noarch::flask==1.1.2=pyhd3eb1b0_0\n",
      "  - defaults/noarch::intake==0.6.5=pyhd3eb1b0_0\n",
      "  - defaults/osx-64::conda==22.9.0=py39hecd8cb5_0\n",
      "  - defaults/osx-64::pyerfa==2.0.0=py39h9ed2024_0\n",
      "  - defaults/osx-64::navigator-updater==0.3.0=py39hecd8cb5_0\n",
      "  - defaults/osx-64::distributed==2022.7.0=py39hecd8cb5_0\n",
      "  - defaults/osx-64::jupyter==1.0.0=py39hecd8cb5_8\n",
      "  - defaults/noarch::ipywidgets==7.6.5=pyhd3eb1b0_1\n",
      "  - defaults/noarch::jupyter_console==6.4.3=pyhd3eb1b0_0\n",
      "  - defaults/osx-64::bokeh==2.4.3=py39hecd8cb5_0\n",
      "  - defaults/osx-64::twisted==22.2.0=py39hca72f7f_1\n",
      "  - defaults/osx-64::mkl_fft==1.3.1=py39h4ab4a9b_0\n",
      "  - defaults/osx-64::conda-repo-cli==1.0.20=py39hecd8cb5_0\n",
      "  - defaults/osx-64::astropy==5.1=py39h67323c0_0\n",
      "  - defaults/noarch::seaborn==0.11.2=pyhd3eb1b0_0\n",
      "  - defaults/osx-64::scipy==1.9.1=py39h3d31255_0\n",
      "  - defaults/osx-64::ipykernel==6.15.2=py39hecd8cb5_0\n",
      "  - defaults/noarch::conda-token==0.4.0=pyhd3eb1b0_0\n",
      "  - defaults/osx-64::spyder==5.3.3=py39hecd8cb5_0\n",
      "  - defaults/osx-64::notebook==6.4.12=py39hecd8cb5_0\n",
      "  - defaults/osx-64::panel==0.13.1=py39hecd8cb5_0\n",
      "  - defaults/osx-64::widgetsnbextension==3.5.2=py39hecd8cb5_0\n",
      "  - defaults/osx-64::clyent==1.2.2=py39hecd8cb5_1\n",
      "  - defaults/osx-64::daal4py==2021.6.0=py39h01d92e1_1\n",
      "  - defaults/noarch::xarray==0.20.1=pyhd3eb1b0_1\n",
      "failed with initial frozen solve. Retrying with flexible solve.\n",
      "Solving environment: failed with repodata from current_repodata.json, will retry with next repodata source.\n",
      "Collecting package metadata (repodata.json): done\n",
      "Solving environment: | \n",
      "The environment is inconsistent, please check the package plan carefully\n",
      "The following packages are causing the inconsistency:\n",
      "\n",
      "  - defaults/osx-64::holoviews==1.15.0=py39hecd8cb5_0\n",
      "  - defaults/noarch::conda-pack==0.6.0=pyhd3eb1b0_0\n",
      "  - defaults/noarch::tifffile==2021.7.2=pyhd3eb1b0_2\n",
      "  - defaults/osx-64::imageio==2.19.3=py39hecd8cb5_0\n",
      "  - defaults/osx-64::scikit-learn==1.0.2=py39hae1ba45_1\n",
      "  - defaults/osx-64::bottleneck==1.3.5=py39h67323c0_0\n",
      "  - defaults/noarch::nbclassic==0.3.5=pyhd3eb1b0_0\n",
      "  - defaults/noarch::cookiecutter==1.7.3=pyhd3eb1b0_0\n",
      "  - defaults/osx-64::scikit-image==0.19.2=py39hae1ba45_0\n",
      "  - defaults/osx-64::anaconda-project==0.11.1=py39hecd8cb5_0\n",
      "  - defaults/osx-64::datashape==0.5.4=py39hecd8cb5_1\n",
      "  - defaults/osx-64::mkl_random==1.2.2=py39hb2f4e1b_0\n",
      "  - defaults/noarch::backports.functools_lru_cache==1.6.4=pyhd3eb1b0_0\n",
      "  - defaults/osx-64::numexpr==2.8.3=py39h2e5f0a9_0\n",
      "  - defaults/osx-64::imagecodecs==2021.8.26=py39h0f85e6e_1\n",
      "  - defaults/noarch::pyls-spyder==0.4.0=pyhd3eb1b0_0\n",
      "  - defaults/osx-64::h5py==3.7.0=py39h4a1dd59_0\n",
      "  - defaults/osx-64::pywavelets==1.3.0=py39hca72f7f_0\n",
      "  - defaults/osx-64::scikit-learn-intelex==2021.6.0=py39hecd8cb5_0\n",
      "  - defaults/osx-64::numpy==1.21.5=py39h2e5f0a9_3\n",
      "  - defaults/osx-64::jupyterlab==3.4.4=py39hecd8cb5_0\n",
      "  - defaults/osx-64::datashader==0.14.1=py39hecd8cb5_0\n",
      "  - defaults/osx-64::anaconda==2022.10=py39_0\n",
      "  - defaults/osx-64::scrapy==2.6.2=py39hecd8cb5_0\n",
      "  - defaults/noarch::jinja2==2.11.3=pyhd3eb1b0_0\n",
      "  - defaults/osx-64::matplotlib==3.5.2=py39hecd8cb5_0\n",
      "  - defaults/osx-64::hvplot==0.8.0=py39hecd8cb5_0\n",
      "  - defaults/noarch::nltk==3.7=pyhd3eb1b0_0\n",
      "  - defaults/osx-64::python-lsp-black==1.2.1=py39hecd8cb5_0\n",
      "  - defaults/osx-64::bkcharts==0.2=py39hecd8cb5_1\n",
      "  - defaults/osx-64::qtconsole==5.3.2=py39hecd8cb5_0\n",
      "  - defaults/osx-64::ipython==7.31.1=py39hecd8cb5_1\n",
      "  - defaults/osx-64::patsy==0.5.2=py39hecd8cb5_1\n",
      "  - defaults/osx-64::conda-build==3.22.0=py39hecd8cb5_0\n",
      "  - defaults/osx-64::sphinx==5.0.2=py39hecd8cb5_0\n",
      "  - defaults/osx-64::bcrypt==3.2.0=py39hca72f7f_1\n",
      "  - defaults/osx-64::_ipyw_jlab_nb_ext_conf==0.1.0=py39hecd8cb5_1\n",
      "  - defaults/osx-64::matplotlib-base==3.5.2=py39hfb0c5b7_0\n",
      "  - defaults/noarch::conda-verify==3.4.2=py_1\n",
      "  - defaults/osx-64::python-lsp-server==1.5.0=py39hecd8cb5_0\n",
      "  - defaults/osx-64::statsmodels==0.13.2=py39hca72f7f_0\n",
      "  - defaults/osx-64::dask==2022.7.0=py39hecd8cb5_0\n",
      "  - defaults/osx-64::anaconda-navigator==2.3.1=py39hecd8cb5_0\n",
      "  - defaults/osx-64::jupyter_server==1.18.1=py39hecd8cb5_0\n",
      "  - defaults/noarch::jinja2-time==0.2.0=pyhd3eb1b0_3\n",
      "  - defaults/osx-64::anaconda-client==1.11.0=py39hecd8cb5_0\n",
      "  - defaults/osx-64::spyder-kernels==2.3.3=py39hecd8cb5_0\n",
      "  - defaults/noarch::jupyterlab_server==2.10.3=pyhd3eb1b0_1\n",
      "  - defaults/osx-64::nbconvert==6.4.4=py39hecd8cb5_0\n",
      "  - defaults/osx-64::gensim==4.1.2=py39he9d5cce_0\n",
      "  - defaults/osx-64::numpydoc==1.4.0=py39hecd8cb5_0\n",
      "  - defaults/osx-64::zope.interface==5.4.0=py39h9ed2024_0\n",
      "  - defaults/osx-64::numba==0.55.1=py39hae1ba45_0\n",
      "  - defaults/osx-64::pytables==3.6.1=py39h648f197_1\n",
      "  - defaults/noarch::flask==1.1.2=pyhd3eb1b0_0\n",
      "  - defaults/noarch::intake==0.6.5=pyhd3eb1b0_0\n",
      "  - defaults/osx-64::conda==22.9.0=py39hecd8cb5_0\n",
      "  - defaults/osx-64::pyerfa==2.0.0=py39h9ed2024_0\n",
      "  - defaults/osx-64::navigator-updater==0.3.0=py39hecd8cb5_0\n",
      "  - defaults/osx-64::distributed==2022.7.0=py39hecd8cb5_0\n",
      "  - defaults/osx-64::jupyter==1.0.0=py39hecd8cb5_8\n",
      "  - defaults/noarch::ipywidgets==7.6.5=pyhd3eb1b0_1\n",
      "  - defaults/noarch::jupyter_console==6.4.3=pyhd3eb1b0_0\n",
      "  - defaults/osx-64::bokeh==2.4.3=py39hecd8cb5_0\n",
      "  - defaults/osx-64::twisted==22.2.0=py39hca72f7f_1\n",
      "  - defaults/osx-64::mkl_fft==1.3.1=py39h4ab4a9b_0\n",
      "  - defaults/osx-64::conda-repo-cli==1.0.20=py39hecd8cb5_0\n",
      "  - defaults/osx-64::astropy==5.1=py39h67323c0_0\n",
      "  - defaults/noarch::seaborn==0.11.2=pyhd3eb1b0_0\n",
      "  - defaults/osx-64::scipy==1.9.1=py39h3d31255_0\n",
      "  - defaults/osx-64::ipykernel==6.15.2=py39hecd8cb5_0\n",
      "  - defaults/noarch::conda-token==0.4.0=pyhd3eb1b0_0\n",
      "  - defaults/osx-64::spyder==5.3.3=py39hecd8cb5_0\n",
      "  - defaults/osx-64::notebook==6.4.12=py39hecd8cb5_0\n",
      "  - defaults/osx-64::panel==0.13.1=py39hecd8cb5_0\n",
      "  - defaults/osx-64::widgetsnbextension==3.5.2=py39hecd8cb5_0\n",
      "  - defaults/osx-64::clyent==1.2.2=py39hecd8cb5_1\n",
      "  - defaults/osx-64::daal4py==2021.6.0=py39h01d92e1_1\n",
      "  - defaults/noarch::xarray==0.20.1=pyhd3eb1b0_1\n"
     ]
    },
    {
     "name": "stdout",
     "output_type": "stream",
     "text": [
      "failed with initial frozen solve. Retrying with flexible solve.\n",
      "Solving environment: - ^C\n",
      "failed\n",
      "\n",
      "CondaError: KeyboardInterrupt\n",
      "\n",
      "\n",
      "Note: you may need to restart the kernel to use updated packages.\n"
     ]
    }
   ],
   "source": [
    "conda install python=3.5"
   ]
  },
  {
   "cell_type": "code",
   "execution_count": 3,
   "metadata": {},
   "outputs": [
    {
     "name": "stdout",
     "output_type": "stream",
     "text": [
      "\u001b[31mERROR: Could not find a version that satisfies the requirement python==3.5 (from versions: none)\u001b[0m\u001b[31m\n",
      "\u001b[0m\u001b[31mERROR: No matching distribution found for python==3.5\u001b[0m\u001b[31m\n",
      "\u001b[0mNote: you may need to restart the kernel to use updated packages.\n"
     ]
    }
   ],
   "source": [
    "pip install lightfm"
   ]
  },
  {
   "cell_type": "code",
   "execution_count": 14,
   "metadata": {},
   "outputs": [
    {
     "name": "stdout",
     "output_type": "stream",
     "text": [
      "\u001b[31mERROR: Could not find a version that satisfies the requirement SomeProject (from versions: none)\u001b[0m\u001b[31m\n",
      "\u001b[0m\u001b[31mERROR: No matching distribution found for SomeProject\u001b[0m\u001b[31m\n",
      "\u001b[0mNote: you may need to restart the kernel to use updated packages.\n"
     ]
    }
   ],
   "source": []
  },
  {
   "cell_type": "code",
   "execution_count": 4,
   "metadata": {},
   "outputs": [
    {
     "ename": "ModuleNotFoundError",
     "evalue": "No module named 'lightfm'",
     "output_type": "error",
     "traceback": [
      "\u001b[0;31m---------------------------------------------------------------------------\u001b[0m",
      "\u001b[0;31mModuleNotFoundError\u001b[0m                       Traceback (most recent call last)",
      "\u001b[0;32m/var/folders/2p/86dk0tk52cj_yh7fgx4gr6y00000gn/T/ipykernel_5075/4088894993.py\u001b[0m in \u001b[0;36m<module>\u001b[0;34m\u001b[0m\n\u001b[1;32m      1\u001b[0m \u001b[0;32mimport\u001b[0m \u001b[0mnumpy\u001b[0m \u001b[0;32mas\u001b[0m \u001b[0mnp\u001b[0m\u001b[0;34m\u001b[0m\u001b[0;34m\u001b[0m\u001b[0m\n\u001b[0;32m----> 2\u001b[0;31m \u001b[0;32mfrom\u001b[0m \u001b[0mlightfm\u001b[0m\u001b[0;34m.\u001b[0m\u001b[0mcross_validation\u001b[0m \u001b[0;32mimport\u001b[0m \u001b[0mrandom_train_test_split\u001b[0m\u001b[0;34m\u001b[0m\u001b[0;34m\u001b[0m\u001b[0m\n\u001b[0m\u001b[1;32m      3\u001b[0m \u001b[0;34m\u001b[0m\u001b[0m\n\u001b[1;32m      4\u001b[0m train, test = random_train_test_split(ratings_matrix, test_percentage=0.2,\n\u001b[1;32m      5\u001b[0m                                       random_state=np.random.RandomState(0))\n",
      "\u001b[0;31mModuleNotFoundError\u001b[0m: No module named 'lightfm'"
     ]
    }
   ],
   "source": [
    "import numpy as np\n",
    "from lightfm.cross_validation import random_train_test_split\n",
    "\n",
    "train, test = random_train_test_split(ratings_matrix, test_percentage=0.2,\n",
    "                                      random_state=np.random.RandomState(0))"
   ]
  },
  {
   "cell_type": "markdown",
   "metadata": {},
   "source": [
    "**Q3**. Train a LightFM model for 10 epochs. You can use the parameter `loss=\"warp\"`."
   ]
  },
  {
   "cell_type": "code",
   "execution_count": null,
   "metadata": {
    "scrolled": true
   },
   "outputs": [],
   "source": [
    "from lightfm import LightFM\n",
    "\n",
    "model = LightFM(no_components=100, loss='warp', random_state=0)\n",
    "\n",
    "model.fit(train, epochs=10, verbose=True)"
   ]
  },
  {
   "cell_type": "markdown",
   "metadata": {},
   "source": [
    "**Q4**. Evaluate your model on your test set. You can use the `precision_at_k` metric implemented in the LightFM library."
   ]
  },
  {
   "cell_type": "code",
   "execution_count": null,
   "metadata": {},
   "outputs": [],
   "source": [
    "from lightfm.evaluation import precision_at_k\n",
    "\n",
    "k = 5\n",
    "precision_k = precision_at_k(model, test, train, k=k).mean()\n",
    "\n",
    "print(\"Precision at k: \",k, \"is \", precision_k))"
   ]
  },
  {
   "cell_type": "markdown",
   "metadata": {},
   "source": [
    "**Q5**. What does the attribute `item_embeddings` of `model` contains?  This will be the heart of your recommendation engine! 💟 So make sure you understand fully what it contains."
   ]
  },
  {
   "cell_type": "code",
   "execution_count": null,
   "metadata": {},
   "outputs": [],
   "source": [
    "print(model.item_embeddings.shape)\n",
    "print(model.item_embeddings[0])"
   ]
  },
  {
   "cell_type": "markdown",
   "metadata": {},
   "source": [
    "**Q6**. We just trained a model that factorized our ratings matrix into a U matrix of shape (n_users, no_components) : `model.user_embeddings` ; and V matrix of shape (n_movies, no_components) : `model.item_embeddings`).\n",
    "\n",
    "Now we want to compute **similarity between each pair of movies**.\n",
    "\n",
    "> 🔦 **Hint**: For the similarity distance we can either use `cosine_similarity` function or `pearson_similarity`:\n",
    "> - **Cosine similarity** between two vectors, or matrices X and Y is given by:\n",
    "> ``` python\n",
    "> from sklearn.metrics.pairwise import cosine_similarity\n",
    "> cosine_similarity(X, Y)\n",
    "> ```\n",
    "> - **Pearson similarity** between two vectors, or matrices X and Y is given by:\n",
    "> ``` python\n",
    "> import numpy as np\n",
    "> np.corrcoef(X, Y)\n",
    "> ```\n",
    "\n",
    "Compute the `similarity_scores` of size (n_movies, n_movies), containing for each element (i, j) the similarity between movie of index i and movie of index j."
   ]
  },
  {
   "cell_type": "code",
   "execution_count": null,
   "metadata": {},
   "outputs": [],
   "source": [
    "#cosine\n",
    "from sklearn.metrics.pairwise import cosine_similarity\n",
    "similarity_scores = cosine_similarity(model.item_embeddings)\n",
    "similarity_scores"
   ]
  },
  {
   "cell_type": "code",
   "execution_count": null,
   "metadata": {},
   "outputs": [],
   "source": [
    "#Pearson\n",
    "similarity_scores = np.corrcoef(model.item_embeddings)\n",
    "similarity_scores"
   ]
  },
  {
   "cell_type": "markdown",
   "metadata": {},
   "source": [
    "**Q7**. For movie of idx 20, what are the idx of the 10 most similar movies?"
   ]
  },
  {
   "cell_type": "code",
   "execution_count": null,
   "metadata": {},
   "outputs": [],
   "source": [
    "idx = 20\n",
    "similarity_idx = similarity_scores[idx]\n",
    "ranked_idx = np.argsort(-similarity_idx)\n",
    "ranked_mid = [idx_to_mid[x] for x in ranked_idx]\n",
    "for mid in ranked_mid[:10]:\n",
    "    print(movies[movies.movieId == mid][\"title\"]) "
   ]
  },
  {
   "cell_type": "markdown",
   "metadata": {},
   "source": [
    "**Q8**. Let's now test our engine! Suppose we have an user that likes **Toy Story** 🧸 (movie_id = 1). Which movies would you recommend to that user? In other words, which movies are the most similar to the movie Toy Story \n",
    "\n",
    "> ⚠️ **Warning**: Remember that your `similarity_scores` works with `idx` and you have the `movie_id` associated to your movie.\n",
    "\n",
    "Retrieve the **top 5 recommendations**."
   ]
  },
  {
   "cell_type": "code",
   "execution_count": null,
   "metadata": {},
   "outputs": [],
   "source": [
    "idx = mid_to_idx[1]\n",
    "similarity_idx = similarity_scores[idx]\n",
    "ranked_idx = np.argsort(-similarity_idx)\n",
    "ranked_mid = [idx_to_mid[x] for x in ranked_idx]\n",
    "[movies[movies.movieId == mid][\"title\"] for mid in ranked_mid[:10]]"
   ]
  },
  {
   "cell_type": "markdown",
   "metadata": {},
   "source": [
    "As the next step is to **deploy your model**, you need now to: \n",
    "\n",
    "**Q9**. Save your `similarity_scores` into pickle format. Save also `movies` DataFrame into pickle format. Save them at the `data/netflix` directory at the root of the repository."
   ]
  },
  {
   "cell_type": "code",
   "execution_count": null,
   "metadata": {},
   "outputs": [],
   "source": [
    "with open(pkl_data + '/similarity_scores.pkl','wb') as f:\n",
    "    pickle.dump(similarity_scores, f)\n",
    "    \n",
    "with open(pkl_data + '/movies.pkl','wb') as f:\n",
    "    pickle.dump(movies, f)"
   ]
  },
  {
   "cell_type": "markdown",
   "metadata": {},
   "source": [
    "**Q10**. Encapsulate the previous code into functions, especially you will need:\n",
    "- `get_sim_scores(mid)` function that returns the vector of the similarity scores `sims` between a movie `mid` and all the other movies\n",
    "- `get_ranked_recos(sims)` that returns for a vector of similarity scores `sims` the list of all ranked recommendations (n_movies) (from most recommended to least recommended) - in the format list of (mid, score, name) tuple."
   ]
  },
  {
   "cell_type": "code",
   "execution_count": null,
   "metadata": {},
   "outputs": [],
   "source": [
    "def get_movie_name(mid, movies):\n",
    "    try:\n",
    "        name = movies.loc[movies.movieId == mid].title.values[0]\n",
    "    except:\n",
    "        name = \"Unknown\"\n",
    "    return name\n",
    "\n",
    "def get_sim_scores(mid):\n",
    "    idx = mid_to_idx[mid]\n",
    "    sims = similarity_scores[idx]\n",
    "    return sims\n",
    "\n",
    "def get_ranked_recos(sims):\n",
    "    recos = []\n",
    "    for idx in np.argsort(-sims):\n",
    "        mid = idx_to_mid[idx]\n",
    "        name = get_movie_name(mid, movies)\n",
    "        score = sims[idx]\n",
    "        recos.append((mid, score, name))\n",
    "    return recos"
   ]
  },
  {
   "cell_type": "code",
   "execution_count": null,
   "metadata": {},
   "outputs": [],
   "source": [
    "sims = get_sim_scores(3)\n",
    "get_ranked_recos(sims_idx)[:10]"
   ]
  },
  {
   "cell_type": "markdown",
   "metadata": {},
   "source": [
    "If you have extra time, feel free now to improve your recommendation engine!"
   ]
  }
 ],
 "metadata": {
  "kernelspec": {
   "display_name": "Python 3 (ipykernel)",
   "language": "python",
   "name": "python3"
  },
  "language_info": {
   "codemirror_mode": {
    "name": "ipython",
    "version": 3
   },
   "file_extension": ".py",
   "mimetype": "text/x-python",
   "name": "python",
   "nbconvert_exporter": "python",
   "pygments_lexer": "ipython3",
   "version": "3.9.13"
  },
  "toc": {
   "base_numbering": 1,
   "nav_menu": {},
   "number_sections": true,
   "sideBar": true,
   "skip_h1_title": false,
   "title_cell": "Table of Contents",
   "title_sidebar": "Contents",
   "toc_cell": false,
   "toc_position": {},
   "toc_section_display": true,
   "toc_window_display": false
  }
 },
 "nbformat": 4,
 "nbformat_minor": 2
}
