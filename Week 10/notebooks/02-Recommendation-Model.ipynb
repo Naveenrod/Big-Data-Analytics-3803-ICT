{
  "cells": [
    {
      "cell_type": "markdown",
      "metadata": {
        "id": "br5qbS-9lwMW"
      },
      "source": [
        "# Recommendation - Model 🍿"
      ]
    },
    {
      "cell_type": "code",
      "source": [
        "from google.colab import drive\n",
        "drive.mount('/content/drive')"
      ],
      "metadata": {
        "id": "DRQktt_CmUNE"
      },
      "execution_count": null,
      "outputs": []
    },
    {
      "cell_type": "markdown",
      "source": [],
      "metadata": {
        "id": "ZDto3RppmgMj"
      }
    },
    {
      "cell_type": "markdown",
      "metadata": {
        "id": "SFaIKY7clwMY"
      },
      "source": [
        "---"
      ]
    },
    {
      "cell_type": "markdown",
      "metadata": {
        "id": "JpjGf0zulwMZ"
      },
      "source": [
        "<img src=\"https://visithrastnik.si/uploads/tic/public/generic_list_item/6-kulturna_prireditev_v_avli_kulturnega_centra_zagorje_ob_savi.jpg\" />"
      ]
    },
    {
      "cell_type": "markdown",
      "metadata": {
        "id": "aBdYFQ7nlwMZ"
      },
      "source": [
        "---"
      ]
    },
    {
      "cell_type": "markdown",
      "metadata": {
        "id": "3lh0DVxClwMZ"
      },
      "source": [
        "Now, time for the exciting part! We will train a Machine Learning model based on our previous **ratings** sparse matrix, so that it creates a recommendation engine automatically! "
      ]
    },
    {
      "cell_type": "markdown",
      "metadata": {
        "id": "l3kLuR32lwMZ"
      },
      "source": [
        "First, load again the dataframe `movies` and `ratings`"
      ]
    },
    {
      "cell_type": "code",
      "execution_count": 2,
      "metadata": {
        "id": "BdhhDi7RlwMa",
        "outputId": "a78ab45b-8aa1-4aa4-933f-6bf0cc7792dc",
        "colab": {
          "base_uri": "https://localhost:8080/"
        }
      },
      "outputs": [
        {
          "output_type": "stream",
          "name": "stdout",
          "text": [
            "   movieId                               title  \\\n",
            "0        1                    Toy Story (1995)   \n",
            "1        2                      Jumanji (1995)   \n",
            "2        3             Grumpier Old Men (1995)   \n",
            "3        4            Waiting to Exhale (1995)   \n",
            "4        5  Father of the Bride Part II (1995)   \n",
            "\n",
            "                                        genres  \n",
            "0  Adventure|Animation|Children|Comedy|Fantasy  \n",
            "1                   Adventure|Children|Fantasy  \n",
            "2                               Comedy|Romance  \n",
            "3                         Comedy|Drama|Romance  \n",
            "4                                       Comedy  \n",
            "   userId  movieId  rating  timestamp\n",
            "0       1        1     4.0  964982703\n",
            "1       1        3     4.0  964981247\n",
            "2       1        6     4.0  964982224\n",
            "3       1       47     5.0  964983815\n",
            "4       1       50     5.0  964982931\n"
          ]
        }
      ],
      "source": [
        "### TODO: load the movies and ratings datasets\n",
        "import pandas as pd\n",
        "movies = pd.read_csv(\"ml-latest-small/movies.csv\")\n",
        "ratings = pd.read_csv(\"ml-latest-small/ratings.csv\")\n",
        "\n",
        "print(movies.head())\n",
        "print(ratings.head())"
      ]
    },
    {
      "cell_type": "markdown",
      "metadata": {
        "id": "ggvx6-9nlwMb"
      },
      "source": [
        "**Q1**. Start by loading all the pickle you saved during last challenge: `ratings_matrix`, `idx_to_mid`, `mid_to_idx`, `uid_to_idx`, `idx_to_uid`"
      ]
    },
    {
      "cell_type": "code",
      "execution_count": 3,
      "metadata": {
        "id": "KlaNkVcLlwMb"
      },
      "outputs": [],
      "source": [
        "import pickle\n",
        "ratings_matrix = pickle.load(open(\"data/ratings_matrix.pkl\", \"rb\"))\n",
        "idx_to_mid = pickle.load(open(\"data/idx_to_mid.pkl\", \"rb\"))\n",
        "mid_to_idx = pickle.load(open(\"data/mid_to_idx.pkl\", \"rb\"))\n",
        "uid_to_idx = pickle.load(open(\"data/uid_to_idx.pkl\", \"rb\"))\n",
        "idx_to_uid = pickle.load(open(\"data/idx_to_uid.pkl\", \"rb\"))"
      ]
    },
    {
      "cell_type": "markdown",
      "metadata": {
        "id": "vsr30hNulwMb"
      },
      "source": [
        "**Q2**. Because the dataset is slightly different from what we have been used to (X as features, y as target), the usual `train_test_split` method from scikit-learn does not apply.\n",
        "\n",
        "Hopefully, `lightfm` comes with a `random_train_test_split` located into `cross_validation` dedicated to this usecase 🙂\n",
        "\n",
        "Split the data randomly into a `train` matrix and a `test` matrix with 20% of interactions into the test set."
      ]
    },
    {
      "cell_type": "code",
      "execution_count": 7,
      "metadata": {
        "id": "MMJSNv2MlwMc"
      },
      "outputs": [],
      "source": []
    },
    {
      "cell_type": "code",
      "execution_count": 5,
      "metadata": {
        "id": "KkQK5jkdlwMc",
        "outputId": "e971bec1-77cf-4d74-d70c-8bb9a57f23dc",
        "colab": {
          "base_uri": "https://localhost:8080/"
        }
      },
      "outputs": [
        {
          "output_type": "stream",
          "name": "stdout",
          "text": [
            "Looking in indexes: https://pypi.org/simple, https://us-python.pkg.dev/colab-wheels/public/simple/\n",
            "Collecting lightfm\n",
            "  Downloading lightfm-1.17.tar.gz (316 kB)\n",
            "\u001b[2K     \u001b[90m━━━━━━━━━━━━━━━━━━━━━━━━━━━━━━━━━━━━━━━\u001b[0m \u001b[32m316.4/316.4 kB\u001b[0m \u001b[31m6.5 MB/s\u001b[0m eta \u001b[36m0:00:00\u001b[0m\n",
            "\u001b[?25h  Preparing metadata (setup.py) ... \u001b[?25l\u001b[?25hdone\n",
            "Requirement already satisfied: numpy in /usr/local/lib/python3.10/dist-packages (from lightfm) (1.22.4)\n",
            "Requirement already satisfied: scipy>=0.17.0 in /usr/local/lib/python3.10/dist-packages (from lightfm) (1.10.1)\n",
            "Requirement already satisfied: requests in /usr/local/lib/python3.10/dist-packages (from lightfm) (2.27.1)\n",
            "Requirement already satisfied: scikit-learn in /usr/local/lib/python3.10/dist-packages (from lightfm) (1.2.2)\n",
            "Requirement already satisfied: urllib3<1.27,>=1.21.1 in /usr/local/lib/python3.10/dist-packages (from requests->lightfm) (1.26.15)\n",
            "Requirement already satisfied: certifi>=2017.4.17 in /usr/local/lib/python3.10/dist-packages (from requests->lightfm) (2022.12.7)\n",
            "Requirement already satisfied: charset-normalizer~=2.0.0 in /usr/local/lib/python3.10/dist-packages (from requests->lightfm) (2.0.12)\n",
            "Requirement already satisfied: idna<4,>=2.5 in /usr/local/lib/python3.10/dist-packages (from requests->lightfm) (3.4)\n",
            "Requirement already satisfied: joblib>=1.1.1 in /usr/local/lib/python3.10/dist-packages (from scikit-learn->lightfm) (1.2.0)\n",
            "Requirement already satisfied: threadpoolctl>=2.0.0 in /usr/local/lib/python3.10/dist-packages (from scikit-learn->lightfm) (3.1.0)\n",
            "Building wheels for collected packages: lightfm\n",
            "  Building wheel for lightfm (setup.py) ... \u001b[?25l\u001b[?25hdone\n",
            "  Created wheel for lightfm: filename=lightfm-1.17-cp310-cp310-linux_x86_64.whl size=879166 sha256=d2a1d6d2d4d2cf1ee368b577a14152674950101b3363daa6d100bf966af37697\n",
            "  Stored in directory: /root/.cache/pip/wheels/4f/9b/7e/0b256f2168511d8fa4dae4fae0200fdbd729eb424a912ad636\n",
            "Successfully built lightfm\n",
            "Installing collected packages: lightfm\n",
            "Successfully installed lightfm-1.17\n"
          ]
        }
      ],
      "source": [
        "pip install lightfm"
      ]
    },
    {
      "cell_type": "code",
      "execution_count": 7,
      "metadata": {
        "id": "lHcWtH9QlwMc"
      },
      "outputs": [],
      "source": []
    },
    {
      "cell_type": "code",
      "execution_count": 6,
      "metadata": {
        "id": "q1o1i1lalwMc"
      },
      "outputs": [],
      "source": [
        "import numpy as np\n",
        "from lightfm.cross_validation import random_train_test_split\n",
        "\n",
        "train, test = random_train_test_split(ratings_matrix, test_percentage=0.2,\n",
        "                                      random_state=np.random.RandomState(0))"
      ]
    },
    {
      "cell_type": "markdown",
      "metadata": {
        "id": "vwaTsLQYlwMc"
      },
      "source": [
        "**Q3**. Train a LightFM model for 10 epochs. You can use the parameter `loss=\"warp\"`."
      ]
    },
    {
      "cell_type": "code",
      "execution_count": 7,
      "metadata": {
        "scrolled": true,
        "id": "JSTkKARBlwMc",
        "outputId": "91e9113d-4771-4cc4-b288-58e4829babc9",
        "colab": {
          "base_uri": "https://localhost:8080/"
        }
      },
      "outputs": [
        {
          "output_type": "stream",
          "name": "stderr",
          "text": [
            "Epoch: 100%|██████████| 10/10 [00:12<00:00,  1.28s/it]\n"
          ]
        },
        {
          "output_type": "execute_result",
          "data": {
            "text/plain": [
              "<lightfm.lightfm.LightFM at 0x7f00272fbe80>"
            ]
          },
          "metadata": {},
          "execution_count": 7
        }
      ],
      "source": [
        "from lightfm import LightFM\n",
        "\n",
        "model = LightFM(no_components=100, loss='warp', random_state=0)\n",
        "\n",
        "model.fit(train, epochs=10, verbose=True)"
      ]
    },
    {
      "cell_type": "markdown",
      "metadata": {
        "id": "624L1V51lwMd"
      },
      "source": [
        "**Q4**. Evaluate your model on your test set. You can use the `precision_at_k` metric implemented in the LightFM library."
      ]
    },
    {
      "cell_type": "code",
      "execution_count": 9,
      "metadata": {
        "id": "iRxPE2NIlwMd",
        "outputId": "f66e4f89-054e-47da-ca10-aab14b4ee693",
        "colab": {
          "base_uri": "https://localhost:8080/"
        }
      },
      "outputs": [
        {
          "output_type": "stream",
          "name": "stdout",
          "text": [
            "Precision at k:  5 is  0.2680921\n"
          ]
        }
      ],
      "source": [
        "from lightfm.evaluation import precision_at_k\n",
        "\n",
        "k = 5\n",
        "precision_k = precision_at_k(model, test, train, k=k).mean()\n",
        "\n",
        "print(\"Precision at k: \",k, \"is \", precision_k)"
      ]
    },
    {
      "cell_type": "markdown",
      "metadata": {
        "id": "QnK14lJPlwMd"
      },
      "source": [
        "**Q5**. What does the attribute `item_embeddings` of `model` contains?  This will be the heart of your recommendation engine! 💟 So make sure you understand fully what it contains."
      ]
    },
    {
      "cell_type": "code",
      "execution_count": 10,
      "metadata": {
        "id": "W-HpdrHilwMd",
        "outputId": "e88e0017-78dc-4e7d-b3aa-151b1ed0c0e9",
        "colab": {
          "base_uri": "https://localhost:8080/"
        }
      },
      "outputs": [
        {
          "output_type": "stream",
          "name": "stdout",
          "text": [
            "(9724, 100)\n",
            "[-0.3142591  -0.2041731   0.08945829 -0.08405492  0.34734696 -0.05399103\n",
            "  0.11160227 -0.20095833 -0.11371228 -0.39413986  0.362561    0.05316165\n",
            " -0.4583187  -0.34357777 -0.18797755 -0.00553624  0.28137276  0.43153363\n",
            "  0.15660733 -0.40245408  0.40595597  0.01247011 -0.27369824 -0.14441921\n",
            "  0.20417038  0.02513273  0.2091002  -0.15891656  0.2149729   0.14988837\n",
            " -0.21464817  0.23834325 -0.2145693   0.24521717 -0.37559548  0.22957776\n",
            " -0.12345305  0.40108737 -0.36697736  0.22383201  0.223479    0.34414145\n",
            "  0.2924009  -0.08213998 -0.16994385  0.14942707  0.3083662  -0.29354784\n",
            "  0.2813535   0.19445191 -0.09893961  0.18049172  0.2639099  -0.2928732\n",
            "  0.22133411  0.3848023  -0.3763623  -0.39090097  0.1398391  -0.19342977\n",
            "  0.2217506  -0.25360197 -0.04459268 -0.24561936 -0.24732517 -0.2852928\n",
            " -0.3145209   0.23152035 -0.08398732  0.2357348   0.43923882 -0.22179724\n",
            " -0.26850736  0.2287694   0.31319067 -0.45152718  0.29074073  0.14896719\n",
            " -0.17075899  0.36414906  0.31535566 -0.36333334 -0.30940136 -0.18098393\n",
            "  0.25576434  0.13181838 -0.24876045  0.06040273  0.21618365  0.00862575\n",
            "  0.4239635  -0.19704804 -0.24612795  0.00307926  0.03299215  0.26428193\n",
            "  0.21571033  0.16809924  0.3242619   0.49499956]\n"
          ]
        }
      ],
      "source": [
        "print(model.item_embeddings.shape)\n",
        "print(model.item_embeddings[0])"
      ]
    },
    {
      "cell_type": "markdown",
      "metadata": {
        "id": "gaeqsewrlwMd"
      },
      "source": [
        "**Q6**. We just trained a model that factorized our ratings matrix into a U matrix of shape (n_users, no_components) : `model.user_embeddings` ; and V matrix of shape (n_movies, no_components) : `model.item_embeddings`).\n",
        "\n",
        "Now we want to compute **similarity between each pair of movies**.\n",
        "\n",
        "> 🔦 **Hint**: For the similarity distance we can either use `cosine_similarity` function or `pearson_similarity`:\n",
        "> - **Cosine similarity** between two vectors, or matrices X and Y is given by:\n",
        "> ``` python\n",
        "> from sklearn.metrics.pairwise import cosine_similarity\n",
        "> cosine_similarity(X, Y)\n",
        "> ```\n",
        "> - **Pearson similarity** between two vectors, or matrices X and Y is given by:\n",
        "> ``` python\n",
        "> import numpy as np\n",
        "> np.corrcoef(X, Y)\n",
        "> ```\n",
        "\n",
        "Compute the `similarity_scores` of size (n_movies, n_movies), containing for each element (i, j) the similarity between movie of index i and movie of index j."
      ]
    },
    {
      "cell_type": "code",
      "execution_count": 11,
      "metadata": {
        "id": "0mukxAlJlwMd",
        "outputId": "78fbda06-77de-486f-b702-aecd2652ed4d",
        "colab": {
          "base_uri": "https://localhost:8080/"
        }
      },
      "outputs": [
        {
          "output_type": "execute_result",
          "data": {
            "text/plain": [
              "array([[ 0.9999999 ,  0.35686016,  0.5590585 , ..., -0.25982952,\n",
              "        -0.3204423 , -0.3208219 ],\n",
              "       [ 0.35686016,  1.        ,  0.4236118 , ..., -0.29630297,\n",
              "        -0.30853668, -0.2569683 ],\n",
              "       [ 0.5590585 ,  0.4236118 ,  1.        , ..., -0.27644306,\n",
              "        -0.18271977, -0.15962668],\n",
              "       ...,\n",
              "       [-0.25982952, -0.29630297, -0.27644306, ...,  1.        ,\n",
              "         0.7492958 ,  0.6513411 ],\n",
              "       [-0.3204423 , -0.30853668, -0.18271977, ...,  0.7492958 ,\n",
              "         0.9999997 ,  0.8015574 ],\n",
              "       [-0.3208219 , -0.2569683 , -0.15962668, ...,  0.6513411 ,\n",
              "         0.8015574 ,  1.0000001 ]], dtype=float32)"
            ]
          },
          "metadata": {},
          "execution_count": 11
        }
      ],
      "source": [
        "#cosine\n",
        "from sklearn.metrics.pairwise import cosine_similarity\n",
        "similarity_scores = cosine_similarity(model.item_embeddings)\n",
        "similarity_scores"
      ]
    },
    {
      "cell_type": "code",
      "execution_count": 12,
      "metadata": {
        "id": "si1yktMplwMd",
        "outputId": "bc2ce449-9a60-4d5c-fd96-33fd7a98bf93",
        "colab": {
          "base_uri": "https://localhost:8080/"
        }
      },
      "outputs": [
        {
          "output_type": "execute_result",
          "data": {
            "text/plain": [
              "array([[ 1.        ,  0.35021119,  0.55637834, ..., -0.26238036,\n",
              "        -0.33058201, -0.32973479],\n",
              "       [ 0.35021119,  1.        ,  0.4183909 , ..., -0.30211544,\n",
              "        -0.32621165, -0.27207356],\n",
              "       [ 0.55637834,  0.4183909 ,  1.        , ..., -0.27883183,\n",
              "        -0.19122061, -0.16694876],\n",
              "       ...,\n",
              "       [-0.26238036, -0.30211544, -0.27883183, ...,  1.        ,\n",
              "         0.75087505,  0.65203931],\n",
              "       [-0.33058201, -0.32621165, -0.19122061, ...,  0.75087505,\n",
              "         1.        ,  0.80003545],\n",
              "       [-0.32973479, -0.27207356, -0.16694876, ...,  0.65203931,\n",
              "         0.80003545,  1.        ]])"
            ]
          },
          "metadata": {},
          "execution_count": 12
        }
      ],
      "source": [
        "#Pearson\n",
        "similarity_scores = np.corrcoef(model.item_embeddings)\n",
        "similarity_scores"
      ]
    },
    {
      "cell_type": "markdown",
      "metadata": {
        "id": "WcQsQnxOlwMe"
      },
      "source": [
        "**Q7**. For movie of idx 20, what are the idx of the 10 most similar movies?"
      ]
    },
    {
      "cell_type": "code",
      "execution_count": 13,
      "metadata": {
        "id": "TXcGcbp2lwMe",
        "outputId": "7745dace-afe9-4ca8-fc3c-0e038753b6f0",
        "colab": {
          "base_uri": "https://localhost:8080/"
        }
      },
      "outputs": [
        {
          "output_type": "stream",
          "name": "stdout",
          "text": [
            "314    Forrest Gump (1994)\n",
            "Name: title, dtype: object\n",
            "257    Pulp Fiction (1994)\n",
            "Name: title, dtype: object\n",
            "277    Shawshank Redemption, The (1994)\n",
            "Name: title, dtype: object\n",
            "224    Star Wars: Episode IV - A New Hope (1977)\n",
            "Name: title, dtype: object\n",
            "0    Toy Story (1995)\n",
            "Name: title, dtype: object\n",
            "461    Schindler's List (1993)\n",
            "Name: title, dtype: object\n",
            "418    Jurassic Park (1993)\n",
            "Name: title, dtype: object\n",
            "43    Seven (a.k.a. Se7en) (1995)\n",
            "Name: title, dtype: object\n",
            "325    Mask, The (1994)\n",
            "Name: title, dtype: object\n",
            "510    Silence of the Lambs, The (1991)\n",
            "Name: title, dtype: object\n"
          ]
        }
      ],
      "source": [
        "idx = 20\n",
        "similarity_idx = similarity_scores[idx]\n",
        "ranked_idx = np.argsort(-similarity_idx)\n",
        "ranked_mid = [idx_to_mid[x] for x in ranked_idx]\n",
        "for mid in ranked_mid[:10]:\n",
        "    print(movies[movies.movieId == mid][\"title\"]) "
      ]
    },
    {
      "cell_type": "markdown",
      "metadata": {
        "id": "UXMOTnZLlwMe"
      },
      "source": [
        "**Q8**. Let's now test our engine! Suppose we have an user that likes **Toy Story** 🧸 (movie_id = 1). Which movies would you recommend to that user? In other words, which movies are the most similar to the movie Toy Story \n",
        "\n",
        "> ⚠️ **Warning**: Remember that your `similarity_scores` works with `idx` and you have the `movie_id` associated to your movie.\n",
        "\n",
        "Retrieve the **top 5 recommendations**."
      ]
    },
    {
      "cell_type": "code",
      "execution_count": 14,
      "metadata": {
        "id": "0qEnP9bJlwMe",
        "outputId": "bfd6545e-adf5-4f68-837a-680dad088b61",
        "colab": {
          "base_uri": "https://localhost:8080/"
        }
      },
      "outputs": [
        {
          "output_type": "execute_result",
          "data": {
            "text/plain": [
              "[0    Toy Story (1995)\n",
              " Name: title, dtype: object,\n",
              " 314    Forrest Gump (1994)\n",
              " Name: title, dtype: object,\n",
              " 277    Shawshank Redemption, The (1994)\n",
              " Name: title, dtype: object,\n",
              " 224    Star Wars: Episode IV - A New Hope (1977)\n",
              " Name: title, dtype: object,\n",
              " 257    Pulp Fiction (1994)\n",
              " Name: title, dtype: object,\n",
              " 1005    When Harry Met Sally... (1989)\n",
              " Name: title, dtype: object,\n",
              " 964    Groundhog Day (1993)\n",
              " Name: title, dtype: object,\n",
              " 325    Mask, The (1994)\n",
              " Name: title, dtype: object,\n",
              " 615    Independence Day (a.k.a. ID4) (1996)\n",
              " Name: title, dtype: object,\n",
              " 461    Schindler's List (1993)\n",
              " Name: title, dtype: object]"
            ]
          },
          "metadata": {},
          "execution_count": 14
        }
      ],
      "source": [
        "idx = mid_to_idx[1]\n",
        "similarity_idx = similarity_scores[idx]\n",
        "ranked_idx = np.argsort(-similarity_idx)\n",
        "ranked_mid = [idx_to_mid[x] for x in ranked_idx]\n",
        "[movies[movies.movieId == mid][\"title\"] for mid in ranked_mid[:10]]"
      ]
    },
    {
      "cell_type": "markdown",
      "metadata": {
        "id": "UXSVeCW4lwMe"
      },
      "source": [
        "As the next step is to **deploy your model**, you need now to: \n",
        "\n",
        "**Q9**. Save your `similarity_scores` into pickle format. Save also `movies` DataFrame into pickle format. Save them at the `data/netflix` directory at the root of the repository."
      ]
    },
    {
      "cell_type": "code",
      "execution_count": 16,
      "metadata": {
        "id": "XibCD3gBlwMe"
      },
      "outputs": [],
      "source": [
        "with open('data/similarity_scores.pkl','wb') as f:\n",
        "    pickle.dump(similarity_scores, f)\n",
        "    \n",
        "with open('data/movies.pkl','wb') as f:\n",
        "    pickle.dump(movies, f)"
      ]
    },
    {
      "cell_type": "markdown",
      "metadata": {
        "id": "spG_dFxFlwMe"
      },
      "source": [
        "**Q10**. Encapsulate the previous code into functions, especially you will need:\n",
        "- `get_sim_scores(mid)` function that returns the vector of the similarity scores `sims` between a movie `mid` and all the other movies\n",
        "- `get_ranked_recos(sims)` that returns for a vector of similarity scores `sims` the list of all ranked recommendations (n_movies) (from most recommended to least recommended) - in the format list of (mid, score, name) tuple."
      ]
    },
    {
      "cell_type": "code",
      "execution_count": 17,
      "metadata": {
        "id": "WBXKPkRJlwMe"
      },
      "outputs": [],
      "source": [
        "def get_movie_name(mid, movies):\n",
        "    try:\n",
        "        name = movies.loc[movies.movieId == mid].title.values[0]\n",
        "    except:\n",
        "        name = \"Unknown\"\n",
        "    return name\n",
        "\n",
        "def get_sim_scores(mid):\n",
        "    idx = mid_to_idx[mid]\n",
        "    sims = similarity_scores[idx]\n",
        "    return sims\n",
        "\n",
        "def get_ranked_recos(sims):\n",
        "    recos = []\n",
        "    for idx in np.argsort(-sims):\n",
        "        mid = idx_to_mid[idx]\n",
        "        name = get_movie_name(mid, movies)\n",
        "        score = sims[idx]\n",
        "        recos.append((mid, score, name))\n",
        "    return recos"
      ]
    },
    {
      "cell_type": "code",
      "execution_count": 19,
      "metadata": {
        "id": "FKoEYfAclwMe",
        "outputId": "2618187b-2eb9-4276-9ba7-11acfd22e69f",
        "colab": {
          "base_uri": "https://localhost:8080/"
        }
      },
      "outputs": [
        {
          "output_type": "execute_result",
          "data": {
            "text/plain": [
              "[(1, 1.0, 'Toy Story (1995)'),\n",
              " (356, 0.8816557439744501, 'Forrest Gump (1994)'),\n",
              " (318, 0.8566118671819603, 'Shawshank Redemption, The (1994)'),\n",
              " (260, 0.82743396597219, 'Star Wars: Episode IV - A New Hope (1977)'),\n",
              " (296, 0.8218105886460275, 'Pulp Fiction (1994)'),\n",
              " (1307, 0.8059555975288796, 'When Harry Met Sally... (1989)'),\n",
              " (1265, 0.803383836803242, 'Groundhog Day (1993)'),\n",
              " (367, 0.7953548581670407, 'Mask, The (1994)'),\n",
              " (780, 0.7910206469590019, 'Independence Day (a.k.a. ID4) (1996)'),\n",
              " (527, 0.787497703634876, \"Schindler's List (1993)\")]"
            ]
          },
          "metadata": {},
          "execution_count": 19
        }
      ],
      "source": [
        "sims = get_sim_scores(3)\n",
        "get_ranked_recos(similarity_idx)[:10]"
      ]
    },
    {
      "cell_type": "markdown",
      "metadata": {
        "id": "8JmjTnsLlwMe"
      },
      "source": [
        "If you have extra time, feel free now to improve your recommendation engine!"
      ]
    }
  ],
  "metadata": {
    "kernelspec": {
      "display_name": "Python 3 (ipykernel)",
      "language": "python",
      "name": "python3"
    },
    "language_info": {
      "codemirror_mode": {
        "name": "ipython",
        "version": 3
      },
      "file_extension": ".py",
      "mimetype": "text/x-python",
      "name": "python",
      "nbconvert_exporter": "python",
      "pygments_lexer": "ipython3",
      "version": "3.9.13"
    },
    "toc": {
      "base_numbering": 1,
      "nav_menu": {},
      "number_sections": true,
      "sideBar": true,
      "skip_h1_title": false,
      "title_cell": "Table of Contents",
      "title_sidebar": "Contents",
      "toc_cell": false,
      "toc_position": {},
      "toc_section_display": true,
      "toc_window_display": false
    },
    "colab": {
      "provenance": []
    }
  },
  "nbformat": 4,
  "nbformat_minor": 0
}