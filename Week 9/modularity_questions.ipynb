{
 "cells": [
  {
   "cell_type": "markdown",
   "metadata": {},
   "source": [
    "# Lab 9 - Graph Data Analytics\n",
    "\n",
    "Complete the code with TODO tag.\n",
    "\n",
    "## 4. Graph Modularity and Louvain Algorithm (OPTIONAL)\n",
    "### 4.1. Compute Modularity\n",
    "\n",
    "In this exercise, we compute the modularity measure of a graph. First we create a small dataset and manually assign the community label to each node."
   ]
  },
  {
   "cell_type": "code",
   "execution_count": 1,
   "metadata": {},
   "outputs": [
    {
     "data": {
      "image/png": "[encoded data removed]",
      "text/plain": [
       "<Figure size 640x480 with 1 Axes>"
      ]
     },
     "metadata": {},
     "output_type": "display_data"
    }
   ],
   "source": [
    "from __future__ import print_function, division\n",
    "%matplotlib inline\n",
    "\n",
    "import networkx as nx\n",
    "import numpy as np\n",
    "\n",
    "M = [\"0,1,2\",\n",
    "\"1,0,2\",\n",
    "\"2,0,1,3\",\n",
    "\"3,2,4,5\",\n",
    "\"4,3,5\",\n",
    "\"5,3,4\"\n",
    "    ]\n",
    "G=nx.parse_adjlist(M, nodetype=int, delimiter=\",\")\n",
    "nx.draw(G, with_labels=True)"
   ]
  },
  {
   "cell_type": "code",
   "execution_count": 2,
   "metadata": {},
   "outputs": [
    {
     "data": {
      "text/plain": [
       "7"
      ]
     },
     "execution_count": 2,
     "metadata": {},
     "output_type": "execute_result"
    }
   ],
   "source": [
    "for node in [0,1,2]:\n",
    "    G.nodes[node]['community'] = 0\n",
    "for node in [3,4,5]:\n",
    "    G.nodes[node]['community'] = 1\n",
    "\n",
    "len(G.edges)"
   ]
  },
  {
   "cell_type": "markdown",
   "metadata": {},
   "source": [
    "Now we compute the modularity of the graph given the current community assignment"
   ]
  },
  {
   "cell_type": "code",
   "execution_count": 3,
   "metadata": {},
   "outputs": [
    {
     "data": {
      "text/plain": [
       "0.3571428571428571"
      ]
     },
     "execution_count": 3,
     "metadata": {},
     "output_type": "execute_result"
    }
   ],
   "source": [
    "def compute_modularity(G):\n",
    "    '''\n",
    "    TODO: compute the modularity of a networkx graph\n",
    "    HINTS:\n",
    "    + The community label of a node can be accessed by G[node_id]['community'] \n",
    "    + The degree of a node: G.degree[node_id]\n",
    "    + The neighbors of a node: G.neighbors(node_id)\n",
    "    + Number of edges between 2 nodes: G.number_of_edges(node_1, node_2)\n",
    "    '''\n",
    "    m = len(G.edges)\n",
    "    Q = 0\n",
    "    for node_i in G.nodes:\n",
    "        for node_j in G.nodes:\n",
    "            if G.nodes[node_i]['community'] == G.nodes[node_j]['community']:\n",
    "                Q += G.number_of_edges(node_i, node_j) - G.degree[node_i]*G.degree[node_j]/(2*m)\n",
    "    return Q/(2*m)\n",
    "\n",
    "compute_modularity(G)"
   ]
  },
  {
   "cell_type": "markdown",
   "metadata": {},
   "source": [
    "### 4.2. Naive Louvain algorithm\n",
    "\n",
    "It is convenient to use the adjacency matrix representation."
   ]
  },
  {
   "cell_type": "code",
   "execution_count": 4,
   "metadata": {},
   "outputs": [
    {
     "name": "stdout",
     "output_type": "stream",
     "text": [
      "[[0 1 1 0 0 0]\n",
      " [1 0 1 0 0 0]\n",
      " [1 1 0 1 0 0]\n",
      " [0 0 1 0 1 1]\n",
      " [0 0 0 1 0 1]\n",
      " [0 0 0 1 1 0]]\n",
      "[0 1 2 3 4 5]\n",
      "[2, 2, 3, 3, 2, 2]\n",
      "7.0\n"
     ]
    },
    {
     "name": "stderr",
     "output_type": "stream",
     "text": [
      "/var/folders/2p/86dk0tk52cj_yh7fgx4gr6y00000gn/T/ipykernel_9406/1504667093.py:2: FutureWarning: adjacency_matrix will return a scipy.sparse array instead of a matrix in Networkx 3.0.\n",
      "  M = nx.adjacency_matrix(G)\n"
     ]
    }
   ],
   "source": [
    "def adj_matrix(G):\n",
    "    M = nx.adjacency_matrix(G)\n",
    "    M = np.array(M.todense())\n",
    "    return M\n",
    "M = adj_matrix(G)\n",
    "p = np.array([i for i in range(len(M))])\n",
    "k = [sum(np.array(row).flatten()) for row in M]\n",
    "m = sum(k) / 2 #undirected graph\n",
    "print(M)\n",
    "print(p)\n",
    "print(k)\n",
    "print(m)"
   ]
  },
  {
   "cell_type": "markdown",
   "metadata": {},
   "source": [
    "Now we implement phase 1 of Louvain algorithm, in which we partition the nodes to maximize the modularity"
   ]
  },
  {
   "cell_type": "code",
   "execution_count": 5,
   "metadata": {},
   "outputs": [
    {
     "data": {
      "text/plain": [
       "array([1, 1, 1, 5, 5, 5])"
      ]
     },
     "execution_count": 5,
     "metadata": {},
     "output_type": "execute_result"
    }
   ],
   "source": [
    "def phase1(M, p=None, k=None):\n",
    "    N = len(M)\n",
    "    \n",
    "    # Community label\n",
    "    if p is None: p = np.array([i for i in range(N)])\n",
    "    \n",
    "    #Node degree\n",
    "    if k is None: k = np.array([sum(row) for row in M])\n",
    "    \n",
    "    m = sum(k) / 2\n",
    "\n",
    "    # Main algorihtm (phase 1)\n",
    "    improvement = True\n",
    "    while improvement:\n",
    "        improvement = False\n",
    "        for i in range(N):\n",
    "            p_max = p[i]\n",
    "            delta_Q_max = 0\n",
    "            for j in range(N):\n",
    "                if M[i][j] == 0: continue\n",
    "                Q_plus = 0 # compute Q_plus = join i to the community of j \n",
    "                Q_minus = 0 # compute Q_minus = remove i out of its current community\n",
    "                \n",
    "                # TODO: Compute the modularity gain via Q_plus and Q_minus\n",
    "                for x in range (N):\n",
    "                    if x != i and p[x] == p[j]:\n",
    "                        Q_plus += M[i][x] - k[i] * k[x]/ (2*m)\n",
    "                    if x != i and p[x] == p[i]:\n",
    "                        Q_minus += M[i][x] - k[i] * k[x] / (2*m)\n",
    "                \n",
    "                if delta_Q_max < Q_plus - Q_minus:\n",
    "                    delta_Q_max = Q_plus - Q_minus\n",
    "                    p_max = p[j]\n",
    "            #Choose the best modularity gain\n",
    "            p[i] = p_max\n",
    "\n",
    "            # Track improvement\n",
    "            if not improvement and delta_Q_max > 0:\n",
    "                improvement = True\n",
    "    return(p)\n",
    "\n",
    "phase1(M)"
   ]
  },
  {
   "cell_type": "markdown",
   "metadata": {},
   "source": [
    "Now we implement the phase 2 of Louvain algorithm, in which we merge the nodes within the same community to a single node and create edges between communities."
   ]
  },
  {
   "cell_type": "code",
   "execution_count": 6,
   "metadata": {},
   "outputs": [
    {
     "data": {
      "text/plain": [
       "(array([[0, 1],\n",
       "        [1, 0]]),\n",
       " array([1, 1]))"
      ]
     },
     "execution_count": 6,
     "metadata": {},
     "output_type": "execute_result"
    }
   ],
   "source": [
    "def phase2(M, p):\n",
    "    N = len(M)\n",
    "    communities = np.unique(p)\n",
    "    C = len(communities)\n",
    "    communities = dict(zip(communities, range(len(communities))))\n",
    "    \n",
    "    M_new = np.array([[0] * C for x in communities])\n",
    "    \n",
    "    # TODO: create an edge between two communities \n",
    "    # if there is an edge between one node of source community and one node of target community\n",
    "    for i in range (N):\n",
    "        for j in range(N):\n",
    "            if M[i][j] != 0 and p[i] != p[j]:\n",
    "                M_new[communities[p[i]]][communities[p[j]]] = 1\n",
    "    return M_new\n",
    "\n",
    "M_new = phase2(M, phase1(M))\n",
    "p_new = phase1(M_new)\n",
    "M_new, p_new"
   ]
  },
  {
   "cell_type": "markdown",
   "metadata": {},
   "source": [
    "Now we can implement the full Louvain algorithm"
   ]
  },
  {
   "cell_type": "code",
   "execution_count": 7,
   "metadata": {},
   "outputs": [
    {
     "name": "stdout",
     "output_type": "stream",
     "text": [
      "Level 0 partition: [0 1 2 3 4 5]\n",
      "Level 1 partition: [1 1 1 5 5 5]\n",
      "Level 2 partition: [1 1]\n"
     ]
    }
   ],
   "source": [
    "def louvain(M, verbose=True):\n",
    "    C = len(M)\n",
    "    iter = 0\n",
    "    M_new = M\n",
    "    print(\"Level 0 partition: {0}\".format(np.array([i for i in range(C)])))\n",
    "    while C > 1:\n",
    "        iter += 1\n",
    "        p = phase1(M_new)\n",
    "        M_new = phase2(M_new, p)\n",
    "        C = len(M_new)\n",
    "        print(\"Level {0} partition: {1}\".format(iter, p))\n",
    "        \n",
    "louvain(M)"
   ]
  },
  {
   "cell_type": "markdown",
   "metadata": {},
   "source": [
    "### 4.3. Efficient Louvain algorithm\n",
    "\n",
    "The naive Louvain algorithm is not efficient. It takes $O(n^3)$. There are some improvements in the literature\n",
    "\n",
    "+ http://www.ijcee.org/vol8/927-A023.pdf\n",
    "+ https://www.cs.upc.edu/~CSN/slides/07communities.pdf\n",
    "+ https://en.wikipedia.org/wiki/Louvain_Modularity\n",
    "+ https://www.quora.com/Is-there-a-simple-explanation-of-the-Louvain-Method-of-community-detection\n",
    "+ http://arxiv.org/abs/0803.0476\n",
    "+ https://stackoverflow.com/questions/22070196/community-detection-in-networkx\n",
    "\n",
    "For simplicity, we will demo one existing implementation. You can try to improve the final visualization further.\n",
    "\n",
    "```bash\n",
    "conda install python-louvain\n",
    "```"
   ]
  },
  {
   "cell_type": "code",
   "execution_count": 9,
   "metadata": {},
   "outputs": [
    {
     "name": "stdout",
     "output_type": "stream",
     "text": [
      "Collecting package metadata (current_repodata.json): done\n",
      "Solving environment: \\ \n",
      "The environment is inconsistent, please check the package plan carefully\n",
      "The following packages are causing the inconsistency:\n",
      "\n",
      "  - defaults/osx-64::holoviews==1.15.0=py39hecd8cb5_0\n",
      "  - defaults/noarch::conda-pack==0.6.0=pyhd3eb1b0_0\n",
      "  - defaults/noarch::tifffile==2021.7.2=pyhd3eb1b0_2\n",
      "  - defaults/osx-64::imageio==2.19.3=py39hecd8cb5_0\n",
      "  - defaults/osx-64::scikit-learn==1.0.2=py39hae1ba45_1\n",
      "  - defaults/osx-64::bottleneck==1.3.5=py39h67323c0_0\n",
      "  - defaults/noarch::nbclassic==0.3.5=pyhd3eb1b0_0\n",
      "  - defaults/noarch::cookiecutter==1.7.3=pyhd3eb1b0_0\n",
      "  - defaults/osx-64::scikit-image==0.19.2=py39hae1ba45_0\n",
      "  - defaults/osx-64::anaconda-project==0.11.1=py39hecd8cb5_0\n",
      "  - defaults/osx-64::datashape==0.5.4=py39hecd8cb5_1\n",
      "  - defaults/osx-64::mkl_random==1.2.2=py39hb2f4e1b_0\n",
      "  - defaults/noarch::backports.functools_lru_cache==1.6.4=pyhd3eb1b0_0\n",
      "  - defaults/osx-64::numexpr==2.8.3=py39h2e5f0a9_0\n",
      "  - defaults/osx-64::imagecodecs==2021.8.26=py39h0f85e6e_1\n",
      "  - defaults/noarch::pyls-spyder==0.4.0=pyhd3eb1b0_0\n",
      "  - defaults/osx-64::h5py==3.7.0=py39h4a1dd59_0\n",
      "  - defaults/osx-64::pywavelets==1.3.0=py39hca72f7f_0\n",
      "  - defaults/osx-64::scikit-learn-intelex==2021.6.0=py39hecd8cb5_0\n",
      "  - defaults/osx-64::numpy==1.21.5=py39h2e5f0a9_3\n",
      "  - defaults/osx-64::jupyterlab==3.4.4=py39hecd8cb5_0\n",
      "  - defaults/osx-64::datashader==0.14.1=py39hecd8cb5_0\n",
      "  - defaults/osx-64::anaconda==2022.10=py39_0\n",
      "  - defaults/osx-64::scrapy==2.6.2=py39hecd8cb5_0\n",
      "  - defaults/noarch::jinja2==2.11.3=pyhd3eb1b0_0\n",
      "  - defaults/osx-64::matplotlib==3.5.2=py39hecd8cb5_0\n",
      "  - defaults/osx-64::hvplot==0.8.0=py39hecd8cb5_0\n",
      "  - defaults/noarch::nltk==3.7=pyhd3eb1b0_0\n",
      "  - defaults/osx-64::python-lsp-black==1.2.1=py39hecd8cb5_0\n",
      "  - defaults/osx-64::bkcharts==0.2=py39hecd8cb5_1\n",
      "  - defaults/osx-64::qtconsole==5.3.2=py39hecd8cb5_0\n",
      "  - defaults/osx-64::ipython==7.31.1=py39hecd8cb5_1\n",
      "  - defaults/osx-64::patsy==0.5.2=py39hecd8cb5_1\n",
      "  - defaults/osx-64::conda-build==3.22.0=py39hecd8cb5_0\n",
      "  - defaults/osx-64::sphinx==5.0.2=py39hecd8cb5_0\n",
      "  - defaults/osx-64::bcrypt==3.2.0=py39hca72f7f_1\n",
      "  - defaults/osx-64::_ipyw_jlab_nb_ext_conf==0.1.0=py39hecd8cb5_1\n",
      "  - defaults/osx-64::matplotlib-base==3.5.2=py39hfb0c5b7_0\n",
      "  - defaults/noarch::conda-verify==3.4.2=py_1\n",
      "  - defaults/osx-64::python-lsp-server==1.5.0=py39hecd8cb5_0\n",
      "  - defaults/osx-64::statsmodels==0.13.2=py39hca72f7f_0\n",
      "  - defaults/osx-64::dask==2022.7.0=py39hecd8cb5_0\n",
      "  - defaults/osx-64::anaconda-navigator==2.3.1=py39hecd8cb5_0\n",
      "  - defaults/osx-64::jupyter_server==1.18.1=py39hecd8cb5_0\n",
      "  - defaults/noarch::jinja2-time==0.2.0=pyhd3eb1b0_3\n",
      "  - defaults/osx-64::anaconda-client==1.11.0=py39hecd8cb5_0\n",
      "  - defaults/osx-64::spyder-kernels==2.3.3=py39hecd8cb5_0\n",
      "  - defaults/noarch::jupyterlab_server==2.10.3=pyhd3eb1b0_1\n",
      "  - defaults/osx-64::nbconvert==6.4.4=py39hecd8cb5_0\n",
      "  - defaults/osx-64::gensim==4.1.2=py39he9d5cce_0\n",
      "  - defaults/osx-64::numpydoc==1.4.0=py39hecd8cb5_0\n",
      "  - defaults/osx-64::zope.interface==5.4.0=py39h9ed2024_0\n",
      "  - defaults/osx-64::numba==0.55.1=py39hae1ba45_0\n",
      "  - defaults/osx-64::pytables==3.6.1=py39h648f197_1\n",
      "  - defaults/noarch::flask==1.1.2=pyhd3eb1b0_0\n",
      "  - defaults/noarch::intake==0.6.5=pyhd3eb1b0_0\n",
      "  - defaults/osx-64::conda==22.9.0=py39hecd8cb5_0\n",
      "  - defaults/osx-64::pyerfa==2.0.0=py39h9ed2024_0\n",
      "  - defaults/osx-64::navigator-updater==0.3.0=py39hecd8cb5_0\n",
      "  - defaults/osx-64::distributed==2022.7.0=py39hecd8cb5_0\n",
      "  - defaults/osx-64::jupyter==1.0.0=py39hecd8cb5_8\n",
      "  - defaults/noarch::ipywidgets==7.6.5=pyhd3eb1b0_1\n",
      "  - defaults/noarch::jupyter_console==6.4.3=pyhd3eb1b0_0\n",
      "  - defaults/osx-64::bokeh==2.4.3=py39hecd8cb5_0\n",
      "  - defaults/osx-64::twisted==22.2.0=py39hca72f7f_1\n",
      "  - defaults/osx-64::mkl_fft==1.3.1=py39h4ab4a9b_0\n",
      "  - defaults/osx-64::conda-repo-cli==1.0.20=py39hecd8cb5_0\n",
      "  - defaults/osx-64::astropy==5.1=py39h67323c0_0\n",
      "  - defaults/noarch::seaborn==0.11.2=pyhd3eb1b0_0\n",
      "  - defaults/osx-64::scipy==1.9.1=py39h3d31255_0\n",
      "  - defaults/osx-64::ipykernel==6.15.2=py39hecd8cb5_0\n",
      "  - defaults/noarch::conda-token==0.4.0=pyhd3eb1b0_0\n",
      "  - defaults/osx-64::spyder==5.3.3=py39hecd8cb5_0\n",
      "  - defaults/osx-64::notebook==6.4.12=py39hecd8cb5_0\n",
      "  - defaults/osx-64::panel==0.13.1=py39hecd8cb5_0\n",
      "  - defaults/osx-64::widgetsnbextension==3.5.2=py39hecd8cb5_0\n",
      "  - defaults/osx-64::clyent==1.2.2=py39hecd8cb5_1\n",
      "  - defaults/osx-64::daal4py==2021.6.0=py39h01d92e1_1\n",
      "  - defaults/noarch::xarray==0.20.1=pyhd3eb1b0_1\n",
      "failed with initial frozen solve. Retrying with flexible solve.\n",
      "Solving environment: failed with repodata from current_repodata.json, will retry with next repodata source.\n",
      "Collecting package metadata (repodata.json): done\n",
      "Solving environment: - \n",
      "The environment is inconsistent, please check the package plan carefully\n",
      "The following packages are causing the inconsistency:\n",
      "\n",
      "  - defaults/osx-64::holoviews==1.15.0=py39hecd8cb5_0\n",
      "  - defaults/noarch::conda-pack==0.6.0=pyhd3eb1b0_0\n",
      "  - defaults/noarch::tifffile==2021.7.2=pyhd3eb1b0_2\n",
      "  - defaults/osx-64::imageio==2.19.3=py39hecd8cb5_0\n",
      "  - defaults/osx-64::scikit-learn==1.0.2=py39hae1ba45_1\n",
      "  - defaults/osx-64::bottleneck==1.3.5=py39h67323c0_0\n",
      "  - defaults/noarch::nbclassic==0.3.5=pyhd3eb1b0_0\n",
      "  - defaults/noarch::cookiecutter==1.7.3=pyhd3eb1b0_0\n",
      "  - defaults/osx-64::scikit-image==0.19.2=py39hae1ba45_0\n",
      "  - defaults/osx-64::anaconda-project==0.11.1=py39hecd8cb5_0\n",
      "  - defaults/osx-64::datashape==0.5.4=py39hecd8cb5_1\n",
      "  - defaults/osx-64::mkl_random==1.2.2=py39hb2f4e1b_0\n",
      "  - defaults/noarch::backports.functools_lru_cache==1.6.4=pyhd3eb1b0_0\n",
      "  - defaults/osx-64::numexpr==2.8.3=py39h2e5f0a9_0\n",
      "  - defaults/osx-64::imagecodecs==2021.8.26=py39h0f85e6e_1\n",
      "  - defaults/noarch::pyls-spyder==0.4.0=pyhd3eb1b0_0\n",
      "  - defaults/osx-64::h5py==3.7.0=py39h4a1dd59_0\n",
      "  - defaults/osx-64::pywavelets==1.3.0=py39hca72f7f_0\n",
      "  - defaults/osx-64::scikit-learn-intelex==2021.6.0=py39hecd8cb5_0\n",
      "  - defaults/osx-64::numpy==1.21.5=py39h2e5f0a9_3\n",
      "  - defaults/osx-64::jupyterlab==3.4.4=py39hecd8cb5_0\n",
      "  - defaults/osx-64::datashader==0.14.1=py39hecd8cb5_0\n",
      "  - defaults/osx-64::anaconda==2022.10=py39_0\n",
      "  - defaults/osx-64::scrapy==2.6.2=py39hecd8cb5_0\n",
      "  - defaults/noarch::jinja2==2.11.3=pyhd3eb1b0_0\n",
      "  - defaults/osx-64::matplotlib==3.5.2=py39hecd8cb5_0\n",
      "  - defaults/osx-64::hvplot==0.8.0=py39hecd8cb5_0\n",
      "  - defaults/noarch::nltk==3.7=pyhd3eb1b0_0\n",
      "  - defaults/osx-64::python-lsp-black==1.2.1=py39hecd8cb5_0\n",
      "  - defaults/osx-64::bkcharts==0.2=py39hecd8cb5_1\n",
      "  - defaults/osx-64::qtconsole==5.3.2=py39hecd8cb5_0\n",
      "  - defaults/osx-64::ipython==7.31.1=py39hecd8cb5_1\n",
      "  - defaults/osx-64::patsy==0.5.2=py39hecd8cb5_1\n",
      "  - defaults/osx-64::conda-build==3.22.0=py39hecd8cb5_0\n",
      "  - defaults/osx-64::sphinx==5.0.2=py39hecd8cb5_0\n",
      "  - defaults/osx-64::bcrypt==3.2.0=py39hca72f7f_1\n",
      "  - defaults/osx-64::_ipyw_jlab_nb_ext_conf==0.1.0=py39hecd8cb5_1\n",
      "  - defaults/osx-64::matplotlib-base==3.5.2=py39hfb0c5b7_0\n",
      "  - defaults/noarch::conda-verify==3.4.2=py_1\n",
      "  - defaults/osx-64::python-lsp-server==1.5.0=py39hecd8cb5_0\n",
      "  - defaults/osx-64::statsmodels==0.13.2=py39hca72f7f_0\n",
      "  - defaults/osx-64::dask==2022.7.0=py39hecd8cb5_0\n",
      "  - defaults/osx-64::anaconda-navigator==2.3.1=py39hecd8cb5_0\n",
      "  - defaults/osx-64::jupyter_server==1.18.1=py39hecd8cb5_0\n",
      "  - defaults/noarch::jinja2-time==0.2.0=pyhd3eb1b0_3\n",
      "  - defaults/osx-64::anaconda-client==1.11.0=py39hecd8cb5_0\n",
      "  - defaults/osx-64::spyder-kernels==2.3.3=py39hecd8cb5_0\n",
      "  - defaults/noarch::jupyterlab_server==2.10.3=pyhd3eb1b0_1\n",
      "  - defaults/osx-64::nbconvert==6.4.4=py39hecd8cb5_0\n",
      "  - defaults/osx-64::gensim==4.1.2=py39he9d5cce_0\n",
      "  - defaults/osx-64::numpydoc==1.4.0=py39hecd8cb5_0\n",
      "  - defaults/osx-64::zope.interface==5.4.0=py39h9ed2024_0\n",
      "  - defaults/osx-64::numba==0.55.1=py39hae1ba45_0\n",
      "  - defaults/osx-64::pytables==3.6.1=py39h648f197_1\n",
      "  - defaults/noarch::flask==1.1.2=pyhd3eb1b0_0\n",
      "  - defaults/noarch::intake==0.6.5=pyhd3eb1b0_0\n",
      "  - defaults/osx-64::conda==22.9.0=py39hecd8cb5_0\n",
      "  - defaults/osx-64::pyerfa==2.0.0=py39h9ed2024_0\n",
      "  - defaults/osx-64::navigator-updater==0.3.0=py39hecd8cb5_0\n",
      "  - defaults/osx-64::distributed==2022.7.0=py39hecd8cb5_0\n",
      "  - defaults/osx-64::jupyter==1.0.0=py39hecd8cb5_8\n",
      "  - defaults/noarch::ipywidgets==7.6.5=pyhd3eb1b0_1\n",
      "  - defaults/noarch::jupyter_console==6.4.3=pyhd3eb1b0_0\n",
      "  - defaults/osx-64::bokeh==2.4.3=py39hecd8cb5_0\n",
      "  - defaults/osx-64::twisted==22.2.0=py39hca72f7f_1\n",
      "  - defaults/osx-64::mkl_fft==1.3.1=py39h4ab4a9b_0\n",
      "  - defaults/osx-64::conda-repo-cli==1.0.20=py39hecd8cb5_0\n",
      "  - defaults/osx-64::astropy==5.1=py39h67323c0_0\n",
      "  - defaults/noarch::seaborn==0.11.2=pyhd3eb1b0_0\n",
      "  - defaults/osx-64::scipy==1.9.1=py39h3d31255_0\n",
      "  - defaults/osx-64::ipykernel==6.15.2=py39hecd8cb5_0\n",
      "  - defaults/noarch::conda-token==0.4.0=pyhd3eb1b0_0\n",
      "  - defaults/osx-64::spyder==5.3.3=py39hecd8cb5_0\n",
      "  - defaults/osx-64::notebook==6.4.12=py39hecd8cb5_0\n",
      "  - defaults/osx-64::panel==0.13.1=py39hecd8cb5_0\n",
      "  - defaults/osx-64::widgetsnbextension==3.5.2=py39hecd8cb5_0\n",
      "  - defaults/osx-64::clyent==1.2.2=py39hecd8cb5_1\n",
      "  - defaults/osx-64::daal4py==2021.6.0=py39h01d92e1_1\n",
      "  - defaults/noarch::xarray==0.20.1=pyhd3eb1b0_1\n"
     ]
    },
    {
     "name": "stdout",
     "output_type": "stream",
     "text": [
      "done\n",
      "\n",
      "\n",
      "==> WARNING: A newer version of conda exists. <==\n",
      "  current version: 22.9.0\n",
      "  latest version: 23.5.0\n",
      "\n",
      "Please update conda by running\n",
      "\n",
      "    $ conda update -n base -c defaults conda\n",
      "\n",
      "\n",
      "\n",
      "## Package Plan ##\n",
      "\n",
      "  environment location: /Users/naveenrodrigo/opt/anaconda3\n",
      "\n",
      "  added / updated specs:\n",
      "    - python-louvain\n",
      "\n",
      "\n",
      "The following NEW packages will be INSTALLED:\n",
      "\n",
      "  _anaconda_depends  pkgs/main/osx-64::_anaconda_depends-2022.10-py39_2 None\n",
      "  joblib             pkgs/main/osx-64::joblib-1.1.1-py39hecd8cb5_0 None\n",
      "  numpy-base         pkgs/main/osx-64::numpy-base-1.21.5-py39h3b1a694_3 None\n",
      "  pandas             pkgs/main/osx-64::pandas-1.4.4-py39he9d5cce_0 None\n",
      "  pip                pkgs/main/osx-64::pip-23.0.1-py39hecd8cb5_0 None\n",
      "  python-louvain     pkgs/main/noarch::python-louvain-0.15-pyhd3eb1b0_0 None\n",
      "  setuptools         pkgs/main/osx-64::setuptools-66.0.0-py39hecd8cb5_0 None\n",
      "  wheel              pkgs/main/osx-64::wheel-0.38.4-py39hecd8cb5_0 None\n",
      "\n",
      "The following packages will be UPDATED:\n",
      "\n",
      "  ca-certificates                     2022.07.19-hecd8cb5_0 --> 2023.01.10-hecd8cb5_0 None\n",
      "  certifi                          2022.9.24-py39hecd8cb5_0 --> 2023.5.7-py39hecd8cb5_0 None\n",
      "  openssl                                 1.1.1q-hca72f7f_0 --> 1.1.1t-hca72f7f_0 None\n",
      "\n",
      "The following packages will be DOWNGRADED:\n",
      "\n",
      "  anaconda                                   2022.10-py39_0 --> custom-py39_1 None\n",
      "\n",
      "\n",
      "Preparing transaction: done\n",
      "Verifying transaction: failed\n",
      "\n",
      "RemoveError: 'setuptools' is a dependency of conda and cannot be removed from\n",
      "conda's operating environment.\n",
      "\n",
      "\n",
      "Note: you may need to restart the kernel to use updated packages.\n"
     ]
    }
   ],
   "source": [
    "conda install python-louvain"
   ]
  },
  {
   "cell_type": "code",
   "execution_count": 8,
   "metadata": {},
   "outputs": [
    {
     "ename": "ModuleNotFoundError",
     "evalue": "No module named 'community'",
     "output_type": "error",
     "traceback": [
      "\u001b[0;31m---------------------------------------------------------------------------\u001b[0m",
      "\u001b[0;31mModuleNotFoundError\u001b[0m                       Traceback (most recent call last)",
      "\u001b[0;32m/var/folders/2p/86dk0tk52cj_yh7fgx4gr6y00000gn/T/ipykernel_9406/3570724721.py\u001b[0m in \u001b[0;36m<module>\u001b[0;34m\u001b[0m\n\u001b[0;32m----> 1\u001b[0;31m \u001b[0;32mimport\u001b[0m \u001b[0mcommunity\u001b[0m\u001b[0;34m\u001b[0m\u001b[0;34m\u001b[0m\u001b[0m\n\u001b[0m\u001b[1;32m      2\u001b[0m \u001b[0;34m\u001b[0m\u001b[0m\n\u001b[1;32m      3\u001b[0m \u001b[0;31m# TODO: Compute the partition of current graph with maximal modularity using python-louvain library\u001b[0m\u001b[0;34m\u001b[0m\u001b[0;34m\u001b[0m\u001b[0m\n\u001b[1;32m      4\u001b[0m \u001b[0mpartition\u001b[0m \u001b[0;34m=\u001b[0m \u001b[0mcommunity\u001b[0m\u001b[0;34m.\u001b[0m\u001b[0mbest_partition\u001b[0m\u001b[0;34m(\u001b[0m\u001b[0mG\u001b[0m\u001b[0;34m)\u001b[0m\u001b[0;34m\u001b[0m\u001b[0;34m\u001b[0m\u001b[0m\n\u001b[1;32m      5\u001b[0m \u001b[0;34m\u001b[0m\u001b[0m\n",
      "\u001b[0;31mModuleNotFoundError\u001b[0m: No module named 'community'"
     ]
    }
   ],
   "source": [
    "import community\n",
    "\n",
    "# TODO: Compute the partition of current graph with maximal modularity using python-louvain library\n",
    "partition = community.best_partition(G)\n",
    "\n",
    "def visualize(G, partition):\n",
    "    import matplotlib.pyplot as plt\n",
    "    size = float(len(set(partition.values())))\n",
    "    pos = nx.spring_layout(G)\n",
    "    count = 0.\n",
    "    for com in set(partition.values()) :\n",
    "        count += 1.\n",
    "        list_nodes = [nodes for nodes in partition.keys() if partition[nodes] == com]\n",
    "        nx.draw_networkx_nodes(G, pos, list_nodes, node_size = 20,\n",
    "                                    node_color = str(count / size))\n",
    "    nx.draw_networkx_edges(G, pos, alpha=0.5)\n",
    "    plt.show()\n",
    "    return\n",
    "\n",
    "visualize(G, partition)"
   ]
  },
  {
   "cell_type": "markdown",
   "metadata": {},
   "source": [
    "### 4.4. Efficiency comparison\n",
    "\n",
    "We load a larger network and compare the running time of the two implementations."
   ]
  },
  {
   "cell_type": "code",
   "execution_count": 9,
   "metadata": {},
   "outputs": [
    {
     "data": {
      "image/png": "[encoded data removed]",
      "text/plain": [
       "<matplotlib.figure.Figure at 0x11a770310>"
      ]
     },
     "metadata": {},
     "output_type": "display_data"
    }
   ],
   "source": [
    "G = nx.karate_club_graph()\n",
    "nx.draw(G)"
   ]
  },
  {
   "cell_type": "code",
   "execution_count": 10,
   "metadata": {},
   "outputs": [
    {
     "name": "stdout",
     "output_type": "stream",
     "text": [
      "--- 0.0634119510651 seconds ---\n",
      "[17 17 12 12 10 16 16 12 32 12 10 17 12 12 32 32 16 17 32 17 32 17 32 25 25\n",
      " 25 32 25 25 32 32 25 32 32]\n"
     ]
    }
   ],
   "source": [
    "import time\n",
    "M = adj_matrix(G)\n",
    "p = np.array([i for i in range(len(M))])\n",
    "k = np.array([sum(row) for row in M])\n",
    "\n",
    "start_time = time.time()\n",
    "p = phase1(M, p, k)\n",
    "print(\"--- %s seconds ---\" % (time.time() - start_time))\n",
    "print(p)"
   ]
  },
  {
   "cell_type": "code",
   "execution_count": 11,
   "metadata": {},
   "outputs": [
    {
     "name": "stdout",
     "output_type": "stream",
     "text": [
      "--- 0.00814485549927 seconds ---\n",
      "{0: 0, 1: 0, 2: 0, 3: 0, 4: 1, 5: 1, 6: 1, 7: 0, 8: 2, 9: 0, 10: 1, 11: 0, 12: 0, 13: 0, 14: 2, 15: 2, 16: 1, 17: 0, 18: 2, 19: 0, 20: 2, 21: 0, 22: 2, 23: 3, 24: 3, 25: 3, 26: 2, 27: 3, 28: 3, 29: 2, 30: 2, 31: 3, 32: 2, 33: 2}\n"
     ]
    },
    {
     "data": {
      "image/png": "[encoded data removed]",
      "text/plain": [
       "<matplotlib.figure.Figure at 0x11a80f090>"
      ]
     },
     "metadata": {},
     "output_type": "display_data"
    }
   ],
   "source": [
    "start_time = time.time()\n",
    "p = community.best_partition(G)\n",
    "print(\"--- %s seconds ---\" % (time.time() - start_time))\n",
    "print(p)\n",
    "visualize(G, p)"
   ]
  },
  {
   "cell_type": "markdown",
   "metadata": {},
   "source": [
    "Now we load an even larger network: https://snap.stanford.edu/data/email-Eu-core.html"
   ]
  },
  {
   "cell_type": "code",
   "execution_count": 12,
   "metadata": {},
   "outputs": [
    {
     "name": "stdout",
     "output_type": "stream",
     "text": [
      "Name: \n",
      "Type: Graph\n",
      "Number of nodes: 1005\n",
      "Number of edges: 16706\n",
      "Average degree:  33.2458\n"
     ]
    },
    {
     "data": {
      "image/png": "[encoded data removed]",
      "text/plain": [
       "<matplotlib.figure.Figure at 0x11a866ed0>"
      ]
     },
     "metadata": {},
     "output_type": "display_data"
    }
   ],
   "source": [
    "G = nx.read_edgelist(\"email-Eu-core.txt\")\n",
    "nx.draw(G)\n",
    "print(nx.info(G))"
   ]
  },
  {
   "cell_type": "code",
   "execution_count": 15,
   "metadata": {},
   "outputs": [
    {
     "name": "stdout",
     "output_type": "stream",
     "text": [
      "--- 0.617053985596 seconds ---\n"
     ]
    },
    {
     "data": {
      "image/png": "[encoded data removed]",
      "text/plain": [
       "<matplotlib.figure.Figure at 0x10ee5e710>"
      ]
     },
     "metadata": {},
     "output_type": "display_data"
    }
   ],
   "source": [
    "start_time = time.time()\n",
    "p = community.best_partition(G)\n",
    "print(\"--- %s seconds ---\" % (time.time() - start_time))\n",
    "# print(p)\n",
    "visualize(G, p)"
   ]
  },
  {
   "cell_type": "code",
   "execution_count": 14,
   "metadata": {
    "collapsed": true
   },
   "outputs": [],
   "source": [
    "#Beware, this will take a long time\n",
    "M = adj_matrix(G)\n",
    "p = np.array([i for i in range(len(M))])\n",
    "k = np.array([sum(row) for row in M])\n",
    "\n",
    "start_time = time.time()\n",
    "p = phase1(M, p, k)\n",
    "print(\"--- %s seconds ---\" % (time.time() - start_time))\n",
    "print(p)"
   ]
  }
 ],
 "metadata": {
  "kernelspec": {
   "display_name": "Python 3 (ipykernel)",
   "language": "python",
   "name": "python3"
  },
  "language_info": {
   "codemirror_mode": {
    "name": "ipython",
    "version": 3
   },
   "file_extension": ".py",
   "mimetype": "text/x-python",
   "name": "python",
   "nbconvert_exporter": "python",
   "pygments_lexer": "ipython3",
   "version": "3.9.13"
  }
 },
 "nbformat": 4,
 "nbformat_minor": 2
}
