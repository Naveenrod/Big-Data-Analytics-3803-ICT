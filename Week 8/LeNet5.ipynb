{
  "cells": [
    {
      "cell_type": "markdown",
      "metadata": {
        "id": "view-in-github",
        "colab_type": "text"
      },
      "source": [
        "<a href=\"https://colab.research.google.com/github/Naveenrod/Big-Data-Analytics-3803-ICT/blob/main/Week%208/LeNet5.ipynb\" target=\"_parent\"><img src=\"https://colab.research.google.com/assets/colab-badge.svg\" alt=\"Open In Colab\"/></a>"
      ]
    },
    {
      "cell_type": "markdown",
      "metadata": {
        "id": "EDbJWoO1yO8e"
      },
      "source": [
        "# Image Classification with CNN - LeNet5 architecture"
      ]
    },
    {
      "cell_type": "markdown",
      "metadata": {
        "id": "JzQxqD6HyO8i"
      },
      "source": [
        "In this exercise, we will apply the LeNet5 algorithm to the Fashion MNIST dataset and improve your performances."
      ]
    },
    {
      "cell_type": "markdown",
      "metadata": {
        "id": "XFyVotRvyO8j"
      },
      "source": [
        "We will first download the data:"
      ]
    },
    {
      "cell_type": "code",
      "execution_count": 1,
      "metadata": {
        "colab": {
          "base_uri": "https://localhost:8080/"
        },
        "id": "RTHLyL1fyO8j",
        "outputId": "02e2e4a8-c08d-40a8-b8fc-6d62bbd53011",
        "scrolled": true
      },
      "outputs": [
        {
          "output_type": "stream",
          "name": "stdout",
          "text": [
            "Downloading data from https://storage.googleapis.com/tensorflow/tf-keras-datasets/train-labels-idx1-ubyte.gz\n",
            "29515/29515 [==============================] - 0s 1us/step\n",
            "Downloading data from https://storage.googleapis.com/tensorflow/tf-keras-datasets/train-images-idx3-ubyte.gz\n",
            "26421880/26421880 [==============================] - 2s 0us/step\n",
            "Downloading data from https://storage.googleapis.com/tensorflow/tf-keras-datasets/t10k-labels-idx1-ubyte.gz\n",
            "5148/5148 [==============================] - 0s 0us/step\n",
            "Downloading data from https://storage.googleapis.com/tensorflow/tf-keras-datasets/t10k-images-idx3-ubyte.gz\n",
            "4422102/4422102 [==============================] - 1s 0us/step\n"
          ]
        },
        {
          "output_type": "execute_result",
          "data": {
            "text/plain": [
              "(60000, 28, 28)"
            ]
          },
          "metadata": {},
          "execution_count": 1
        }
      ],
      "source": [
        "# TODO: Load the dataset\n",
        "from tensorflow.keras.datasets import fashion_mnist\n",
        "\n",
        "(X_train, y_train), (X_test, y_test) = fashion_mnist.load_data()\n",
        "\n",
        "# # # If your computer is slow, try to use a subset of data, e.g.\n",
        "# X_train = X_train[:10000]\n",
        "# y_train = y_train[:10000]\n",
        "# X_test = X_test[:2000]\n",
        "# y_test = y_test[:2000]\n",
        "X_train.shape"
      ]
    },
    {
      "cell_type": "markdown",
      "metadata": {
        "id": "c8ShXIANyO8l"
      },
      "source": [
        "As you already know, this dataset contains 10 classes:\n",
        "* 0:\tT-shirt/top\n",
        "* 1:\tTrouser\n",
        "* 2:\tPullover\n",
        "* 3:\tDress\n",
        "* 4:\tCoat\n",
        "* 5:\tSandal\n",
        "* 6:\tShirt\n",
        "* 7:\tSneaker\n",
        "* 8:\tBag\n",
        "* 9:\tAnkle boot"
      ]
    },
    {
      "cell_type": "markdown",
      "metadata": {
        "id": "_BvNG0PbyO8l"
      },
      "source": [
        "You can have a look at some images if needed, even if you already know them."
      ]
    },
    {
      "cell_type": "code",
      "execution_count": 5,
      "metadata": {
        "colab": {
          "base_uri": "https://localhost:8080/",
          "height": 452
        },
        "id": "lnjqgv-GyO8m",
        "outputId": "5c8c1a49-23d6-4458-8448-7cdda6504812",
        "scrolled": true
      },
      "outputs": [
        {
          "output_type": "display_data",
          "data": {
            "text/plain": [
              "<Figure size 640x480 with 1 Axes>"
            ],
            "image/png": "[encoded data removed]"
          },
          "metadata": {}
        }
      ],
      "source": [
        "# TODO: Explore the data, display some input images\n",
        "%matplotlib inline\n",
        "import matplotlib.pyplot as plt\n",
        "import numpy as np\n",
        "\n",
        "label_class = ['top', 'trouser', 'pullover', 'dress', 'coat', 'sandal', 'shirt', 'sneaker', 'bag', 'ankle boot']\n",
        "\n",
        "idx = np.random.randint(X_train.shape[0])\n",
        "\n",
        "plt.imshow(X_train[idx], cmap='gray_r')\n",
        "plt.title(label_class[y_train[idx]])\n",
        "plt.show()"
      ]
    },
    {
      "cell_type": "markdown",
      "metadata": {
        "id": "AdYH6XW1yO8n"
      },
      "source": [
        "Make the data preparation and preprocessing: scale and reshape the data, put the labels to the good shape."
      ]
    },
    {
      "cell_type": "code",
      "execution_count": 6,
      "metadata": {
        "id": "fjv8XMPByO8o",
        "outputId": "4aecbf2b-b9ce-4e9a-c736-6ed84fed5480",
        "colab": {
          "base_uri": "https://localhost:8080/"
        }
      },
      "outputs": [
        {
          "output_type": "execute_result",
          "data": {
            "text/plain": [
              "(60000, 28, 28, 1)"
            ]
          },
          "metadata": {},
          "execution_count": 6
        }
      ],
      "source": [
        "# TODO: Make the data preparation\n",
        "from tensorflow.keras.utils import to_categorical\n",
        "\n",
        "y_train_cat = to_categorical(y_train, num_classes=10)\n",
        "y_test_cat = to_categorical(y_test, num_classes=10)\n",
        "\n",
        "X_train_norm = X_train/255\n",
        "X_test_norm = X_test/255\n",
        "\n",
        "\n",
        "X_train_norm = X_train_norm.reshape(X_train_norm.shape[0], 28, 28, 1)\n",
        "X_test_norm = X_test_norm.reshape(X_test_norm.shape[0], 28, 28, 1)\n",
        "\n",
        "X_train_norm.shape #Should be (60000, 28, 28, 1)"
      ]
    },
    {
      "cell_type": "markdown",
      "metadata": {
        "id": "y9LKzxR9yO8o"
      },
      "source": [
        "Now build the LeNet5 architecture. You can reuse the one of the course, or try to build it by yourself.\n",
        "\n",
        "The architecture is the following:\n",
        "\n",
        "<p align=\"center\">\n",
        "<img src=\"https://drive.google.com/uc?export=view&id=1WteTU2FPIVMkBKmMxGpFm5OjsX-szTbB\">\n",
        "</p>"
      ]
    },
    {
      "cell_type": "code",
      "execution_count": 7,
      "metadata": {
        "id": "GKyMFlL6yO8o"
      },
      "outputs": [],
      "source": [
        "# TODO: Build your model\n",
        "from tensorflow.keras.models import Sequential\n",
        "from tensorflow.keras.layers import MaxPooling2D, Conv2D, Flatten, Dense\n",
        "\n",
        "\n",
        "def lenet5():\n",
        "    \n",
        "    model = Sequential()\n",
        "\n",
        "    # Layer C1\n",
        "    model.add(Conv2D(filters=6, name='C1', kernel_size=(3, 3), activation='relu', input_shape=(28,28,1)))\n",
        "    # Layer S2\n",
        "    model.add(MaxPooling2D(pool_size=(2, 2), name='S2'))\n",
        "    # Layer C3\n",
        "    model.add(Conv2D(filters=16, name='C3', kernel_size=(3, 3), activation='relu'))\n",
        "    # Layer S4\n",
        "    model.add(MaxPooling2D(pool_size=(2, 2), name='S4'))\n",
        "    # Before going into layer C5, we flatten our units\n",
        "    model.add(Flatten())\n",
        "    # Layer C5\n",
        "    model.add(Dense(units=120, activation = 'relu', name='C5'))\n",
        "    # Layer F6\n",
        "    model.add(Dense(units=84, activation = 'relu', name='F6'))\n",
        "    # Output layer\n",
        "    model.add(Dense(units=10, activation = 'softmax'))\n",
        "    \n",
        "    return model\n",
        "lenet5().summary()"
      ]
    },
    {
      "cell_type": "markdown",
      "metadata": {
        "id": "i1qBEauqyO8p"
      },
      "source": [
        "Now compile and fit your model on your training data. Since this is a multiclass classification, the loss is not `binary_crossentropy` anymore, but `categorical_crossentropy`."
      ]
    },
    {
      "cell_type": "code",
      "execution_count": 8,
      "metadata": {
        "colab": {
          "base_uri": "https://localhost:8080/"
        },
        "id": "nPL3aKnyyO8p",
        "outputId": "4e518790-64d6-4fda-e1fe-53c041909ba8",
        "scrolled": true
      },
      "outputs": [
        {
          "output_type": "stream",
          "name": "stdout",
          "text": [
            "Epoch 1/100\n",
            "30/30 [==============================] - 13s 30ms/step - loss: 1.6630 - accuracy: 0.5139 - val_loss: 0.9168 - val_accuracy: 0.6775\n",
            "Epoch 2/100\n",
            "30/30 [==============================] - 0s 13ms/step - loss: 0.7431 - accuracy: 0.7253 - val_loss: 0.6592 - val_accuracy: 0.7539\n",
            "Epoch 3/100\n",
            "30/30 [==============================] - 0s 12ms/step - loss: 0.6006 - accuracy: 0.7733 - val_loss: 0.5893 - val_accuracy: 0.7774\n",
            "Epoch 4/100\n",
            "30/30 [==============================] - 0s 13ms/step - loss: 0.5444 - accuracy: 0.7963 - val_loss: 0.5422 - val_accuracy: 0.7962\n",
            "Epoch 5/100\n",
            "30/30 [==============================] - 0s 12ms/step - loss: 0.5038 - accuracy: 0.8147 - val_loss: 0.5081 - val_accuracy: 0.8122\n",
            "Epoch 6/100\n",
            "30/30 [==============================] - 0s 13ms/step - loss: 0.4742 - accuracy: 0.8287 - val_loss: 0.4846 - val_accuracy: 0.8250\n",
            "Epoch 7/100\n",
            "30/30 [==============================] - 0s 12ms/step - loss: 0.4585 - accuracy: 0.8328 - val_loss: 0.4635 - val_accuracy: 0.8313\n",
            "Epoch 8/100\n",
            "30/30 [==============================] - 0s 12ms/step - loss: 0.4365 - accuracy: 0.8431 - val_loss: 0.4487 - val_accuracy: 0.8360\n",
            "Epoch 9/100\n",
            "30/30 [==============================] - 0s 13ms/step - loss: 0.4215 - accuracy: 0.8482 - val_loss: 0.4408 - val_accuracy: 0.8428\n",
            "Epoch 10/100\n",
            "30/30 [==============================] - 0s 12ms/step - loss: 0.4190 - accuracy: 0.8483 - val_loss: 0.4294 - val_accuracy: 0.8430\n",
            "Epoch 11/100\n",
            "30/30 [==============================] - 0s 13ms/step - loss: 0.4068 - accuracy: 0.8530 - val_loss: 0.4291 - val_accuracy: 0.8441\n",
            "Epoch 12/100\n",
            "30/30 [==============================] - 0s 13ms/step - loss: 0.4022 - accuracy: 0.8546 - val_loss: 0.4141 - val_accuracy: 0.8523\n",
            "Epoch 13/100\n",
            "30/30 [==============================] - 0s 13ms/step - loss: 0.3913 - accuracy: 0.8581 - val_loss: 0.4066 - val_accuracy: 0.8534\n",
            "Epoch 14/100\n",
            "30/30 [==============================] - 0s 12ms/step - loss: 0.3839 - accuracy: 0.8605 - val_loss: 0.4085 - val_accuracy: 0.8521\n",
            "Epoch 15/100\n",
            "30/30 [==============================] - 0s 12ms/step - loss: 0.3758 - accuracy: 0.8650 - val_loss: 0.3968 - val_accuracy: 0.8581\n",
            "Epoch 16/100\n",
            "30/30 [==============================] - 0s 12ms/step - loss: 0.3693 - accuracy: 0.8662 - val_loss: 0.3939 - val_accuracy: 0.8585\n",
            "Epoch 17/100\n",
            "30/30 [==============================] - 0s 16ms/step - loss: 0.3677 - accuracy: 0.8658 - val_loss: 0.4013 - val_accuracy: 0.8553\n",
            "Epoch 18/100\n",
            "30/30 [==============================] - 0s 16ms/step - loss: 0.3646 - accuracy: 0.8671 - val_loss: 0.3883 - val_accuracy: 0.8636\n",
            "Epoch 19/100\n",
            "30/30 [==============================] - 0s 15ms/step - loss: 0.3559 - accuracy: 0.8700 - val_loss: 0.3819 - val_accuracy: 0.8643\n",
            "Epoch 20/100\n",
            "30/30 [==============================] - 0s 16ms/step - loss: 0.3514 - accuracy: 0.8719 - val_loss: 0.3806 - val_accuracy: 0.8645\n",
            "Epoch 21/100\n",
            "30/30 [==============================] - 0s 15ms/step - loss: 0.3437 - accuracy: 0.8755 - val_loss: 0.3830 - val_accuracy: 0.8622\n",
            "Epoch 22/100\n",
            "30/30 [==============================] - 0s 13ms/step - loss: 0.3402 - accuracy: 0.8756 - val_loss: 0.3792 - val_accuracy: 0.8647\n",
            "Epoch 23/100\n",
            "30/30 [==============================] - 0s 12ms/step - loss: 0.3378 - accuracy: 0.8768 - val_loss: 0.3672 - val_accuracy: 0.8713\n",
            "Epoch 24/100\n",
            "30/30 [==============================] - 0s 12ms/step - loss: 0.3324 - accuracy: 0.8788 - val_loss: 0.3625 - val_accuracy: 0.8699\n",
            "Epoch 25/100\n",
            "30/30 [==============================] - 0s 12ms/step - loss: 0.3291 - accuracy: 0.8799 - val_loss: 0.3633 - val_accuracy: 0.8693\n",
            "Epoch 26/100\n",
            "30/30 [==============================] - 0s 14ms/step - loss: 0.3289 - accuracy: 0.8802 - val_loss: 0.3573 - val_accuracy: 0.8706\n",
            "Epoch 27/100\n",
            "30/30 [==============================] - 0s 13ms/step - loss: 0.3222 - accuracy: 0.8829 - val_loss: 0.3617 - val_accuracy: 0.8698\n",
            "Epoch 28/100\n",
            "30/30 [==============================] - 0s 12ms/step - loss: 0.3194 - accuracy: 0.8843 - val_loss: 0.3525 - val_accuracy: 0.8743\n",
            "Epoch 29/100\n",
            "30/30 [==============================] - 0s 13ms/step - loss: 0.3164 - accuracy: 0.8843 - val_loss: 0.3486 - val_accuracy: 0.8755\n",
            "Epoch 30/100\n",
            "30/30 [==============================] - 0s 12ms/step - loss: 0.3132 - accuracy: 0.8852 - val_loss: 0.3485 - val_accuracy: 0.8765\n",
            "Epoch 31/100\n",
            "30/30 [==============================] - 0s 12ms/step - loss: 0.3078 - accuracy: 0.8878 - val_loss: 0.3441 - val_accuracy: 0.8760\n",
            "Epoch 32/100\n",
            "30/30 [==============================] - 0s 13ms/step - loss: 0.3060 - accuracy: 0.8888 - val_loss: 0.3407 - val_accuracy: 0.8769\n",
            "Epoch 33/100\n",
            "30/30 [==============================] - 0s 13ms/step - loss: 0.3028 - accuracy: 0.8899 - val_loss: 0.3423 - val_accuracy: 0.8766\n",
            "Epoch 34/100\n",
            "30/30 [==============================] - 0s 14ms/step - loss: 0.3007 - accuracy: 0.8910 - val_loss: 0.3416 - val_accuracy: 0.8749\n",
            "Epoch 35/100\n",
            "30/30 [==============================] - 0s 13ms/step - loss: 0.2982 - accuracy: 0.8914 - val_loss: 0.3406 - val_accuracy: 0.8790\n",
            "Epoch 36/100\n",
            "30/30 [==============================] - 0s 12ms/step - loss: 0.2937 - accuracy: 0.8930 - val_loss: 0.3361 - val_accuracy: 0.8804\n",
            "Epoch 37/100\n",
            "30/30 [==============================] - 0s 13ms/step - loss: 0.2958 - accuracy: 0.8915 - val_loss: 0.3387 - val_accuracy: 0.8783\n",
            "Epoch 38/100\n",
            "30/30 [==============================] - 0s 14ms/step - loss: 0.2922 - accuracy: 0.8942 - val_loss: 0.3315 - val_accuracy: 0.8799\n",
            "Epoch 39/100\n",
            "30/30 [==============================] - 1s 18ms/step - loss: 0.2940 - accuracy: 0.8925 - val_loss: 0.3360 - val_accuracy: 0.8781\n",
            "Epoch 40/100\n",
            "30/30 [==============================] - 0s 17ms/step - loss: 0.2883 - accuracy: 0.8948 - val_loss: 0.3253 - val_accuracy: 0.8826\n",
            "Epoch 41/100\n",
            "30/30 [==============================] - 0s 15ms/step - loss: 0.2812 - accuracy: 0.8975 - val_loss: 0.3240 - val_accuracy: 0.8840\n",
            "Epoch 42/100\n",
            "30/30 [==============================] - 0s 15ms/step - loss: 0.2791 - accuracy: 0.8979 - val_loss: 0.3255 - val_accuracy: 0.8827\n",
            "Epoch 43/100\n",
            "30/30 [==============================] - 1s 17ms/step - loss: 0.2798 - accuracy: 0.8975 - val_loss: 0.3243 - val_accuracy: 0.8841\n",
            "Epoch 44/100\n",
            "30/30 [==============================] - 0s 13ms/step - loss: 0.2757 - accuracy: 0.8994 - val_loss: 0.3254 - val_accuracy: 0.8835\n",
            "Epoch 45/100\n",
            "30/30 [==============================] - 1s 18ms/step - loss: 0.2745 - accuracy: 0.8999 - val_loss: 0.3186 - val_accuracy: 0.8848\n",
            "Epoch 46/100\n",
            "30/30 [==============================] - 1s 41ms/step - loss: 0.2749 - accuracy: 0.9004 - val_loss: 0.3222 - val_accuracy: 0.8833\n",
            "Epoch 47/100\n",
            "30/30 [==============================] - 1s 23ms/step - loss: 0.2733 - accuracy: 0.8997 - val_loss: 0.3199 - val_accuracy: 0.8861\n",
            "Epoch 48/100\n",
            "30/30 [==============================] - 1s 26ms/step - loss: 0.2709 - accuracy: 0.9008 - val_loss: 0.3152 - val_accuracy: 0.8855\n",
            "Epoch 49/100\n",
            "30/30 [==============================] - 0s 16ms/step - loss: 0.2698 - accuracy: 0.9015 - val_loss: 0.3190 - val_accuracy: 0.8836\n",
            "Epoch 50/100\n",
            "30/30 [==============================] - 1s 17ms/step - loss: 0.2666 - accuracy: 0.9023 - val_loss: 0.3138 - val_accuracy: 0.8851\n",
            "Epoch 51/100\n",
            "30/30 [==============================] - 1s 18ms/step - loss: 0.2632 - accuracy: 0.9040 - val_loss: 0.3129 - val_accuracy: 0.8868\n",
            "Epoch 52/100\n",
            "30/30 [==============================] - 1s 19ms/step - loss: 0.2632 - accuracy: 0.9036 - val_loss: 0.3194 - val_accuracy: 0.8866\n",
            "Epoch 53/100\n",
            "30/30 [==============================] - 0s 13ms/step - loss: 0.2592 - accuracy: 0.9053 - val_loss: 0.3181 - val_accuracy: 0.8870\n",
            "Epoch 54/100\n",
            "30/30 [==============================] - 1s 17ms/step - loss: 0.2605 - accuracy: 0.9040 - val_loss: 0.3271 - val_accuracy: 0.8804\n",
            "Epoch 55/100\n",
            "30/30 [==============================] - 0s 16ms/step - loss: 0.2621 - accuracy: 0.9039 - val_loss: 0.3296 - val_accuracy: 0.8806\n",
            "Epoch 56/100\n",
            "30/30 [==============================] - 1s 17ms/step - loss: 0.2584 - accuracy: 0.9051 - val_loss: 0.3198 - val_accuracy: 0.8880\n",
            "Epoch 57/100\n",
            "30/30 [==============================] - 1s 17ms/step - loss: 0.2550 - accuracy: 0.9061 - val_loss: 0.3080 - val_accuracy: 0.8890\n",
            "Epoch 58/100\n",
            "30/30 [==============================] - 0s 14ms/step - loss: 0.2509 - accuracy: 0.9081 - val_loss: 0.3124 - val_accuracy: 0.8864\n",
            "Epoch 59/100\n",
            "30/30 [==============================] - 0s 12ms/step - loss: 0.2523 - accuracy: 0.9077 - val_loss: 0.3194 - val_accuracy: 0.8844\n",
            "Epoch 60/100\n",
            "30/30 [==============================] - 0s 13ms/step - loss: 0.2485 - accuracy: 0.9095 - val_loss: 0.3091 - val_accuracy: 0.8911\n",
            "Epoch 61/100\n",
            "30/30 [==============================] - 0s 12ms/step - loss: 0.2479 - accuracy: 0.9088 - val_loss: 0.3099 - val_accuracy: 0.8867\n",
            "Epoch 62/100\n",
            "30/30 [==============================] - 0s 15ms/step - loss: 0.2470 - accuracy: 0.9091 - val_loss: 0.3125 - val_accuracy: 0.8870\n",
            "Epoch 63/100\n",
            "30/30 [==============================] - 0s 13ms/step - loss: 0.2470 - accuracy: 0.9093 - val_loss: 0.3139 - val_accuracy: 0.8878\n",
            "Epoch 64/100\n",
            "30/30 [==============================] - 0s 16ms/step - loss: 0.2470 - accuracy: 0.9096 - val_loss: 0.3107 - val_accuracy: 0.8886\n",
            "Epoch 65/100\n",
            "30/30 [==============================] - 0s 16ms/step - loss: 0.2424 - accuracy: 0.9111 - val_loss: 0.3166 - val_accuracy: 0.8849\n",
            "Epoch 66/100\n",
            "30/30 [==============================] - 0s 16ms/step - loss: 0.2443 - accuracy: 0.9089 - val_loss: 0.3044 - val_accuracy: 0.8897\n",
            "Epoch 67/100\n",
            "30/30 [==============================] - 0s 12ms/step - loss: 0.2387 - accuracy: 0.9122 - val_loss: 0.3090 - val_accuracy: 0.8901\n",
            "Epoch 68/100\n",
            "30/30 [==============================] - 0s 15ms/step - loss: 0.2395 - accuracy: 0.9118 - val_loss: 0.3062 - val_accuracy: 0.8912\n",
            "Epoch 69/100\n",
            "30/30 [==============================] - 1s 17ms/step - loss: 0.2384 - accuracy: 0.9129 - val_loss: 0.3043 - val_accuracy: 0.8905\n",
            "Epoch 70/100\n",
            "30/30 [==============================] - 1s 22ms/step - loss: 0.2412 - accuracy: 0.9108 - val_loss: 0.3045 - val_accuracy: 0.8927\n",
            "Epoch 71/100\n",
            "30/30 [==============================] - 1s 20ms/step - loss: 0.2379 - accuracy: 0.9137 - val_loss: 0.3179 - val_accuracy: 0.8861\n",
            "Epoch 72/100\n",
            "30/30 [==============================] - 1s 32ms/step - loss: 0.2444 - accuracy: 0.9102 - val_loss: 0.3111 - val_accuracy: 0.8889\n",
            "Epoch 73/100\n",
            "30/30 [==============================] - 1s 17ms/step - loss: 0.2334 - accuracy: 0.9146 - val_loss: 0.2997 - val_accuracy: 0.8939\n",
            "Epoch 74/100\n",
            "30/30 [==============================] - 0s 14ms/step - loss: 0.2324 - accuracy: 0.9144 - val_loss: 0.3013 - val_accuracy: 0.8921\n",
            "Epoch 75/100\n",
            "30/30 [==============================] - 0s 14ms/step - loss: 0.2318 - accuracy: 0.9144 - val_loss: 0.2995 - val_accuracy: 0.8937\n",
            "Epoch 76/100\n",
            "30/30 [==============================] - 0s 12ms/step - loss: 0.2284 - accuracy: 0.9167 - val_loss: 0.2986 - val_accuracy: 0.8918\n",
            "Epoch 77/100\n",
            "30/30 [==============================] - 0s 13ms/step - loss: 0.2284 - accuracy: 0.9159 - val_loss: 0.3077 - val_accuracy: 0.8909\n",
            "Epoch 78/100\n",
            "30/30 [==============================] - 0s 13ms/step - loss: 0.2291 - accuracy: 0.9159 - val_loss: 0.2987 - val_accuracy: 0.8931\n",
            "Epoch 79/100\n",
            "30/30 [==============================] - 0s 12ms/step - loss: 0.2269 - accuracy: 0.9166 - val_loss: 0.3081 - val_accuracy: 0.8913\n",
            "Epoch 80/100\n",
            "30/30 [==============================] - 0s 12ms/step - loss: 0.2262 - accuracy: 0.9172 - val_loss: 0.3056 - val_accuracy: 0.8942\n",
            "Epoch 81/100\n",
            "30/30 [==============================] - 0s 13ms/step - loss: 0.2275 - accuracy: 0.9161 - val_loss: 0.3212 - val_accuracy: 0.8890\n",
            "Epoch 82/100\n",
            "30/30 [==============================] - 0s 12ms/step - loss: 0.2240 - accuracy: 0.9175 - val_loss: 0.2997 - val_accuracy: 0.8948\n",
            "Epoch 83/100\n",
            "30/30 [==============================] - 0s 13ms/step - loss: 0.2248 - accuracy: 0.9167 - val_loss: 0.3145 - val_accuracy: 0.8881\n",
            "Epoch 84/100\n",
            "30/30 [==============================] - 0s 13ms/step - loss: 0.2260 - accuracy: 0.9164 - val_loss: 0.2985 - val_accuracy: 0.8960\n",
            "Epoch 85/100\n",
            "30/30 [==============================] - 0s 12ms/step - loss: 0.2243 - accuracy: 0.9176 - val_loss: 0.3072 - val_accuracy: 0.8906\n",
            "Epoch 86/100\n",
            "30/30 [==============================] - 0s 12ms/step - loss: 0.2191 - accuracy: 0.9200 - val_loss: 0.3018 - val_accuracy: 0.8936\n",
            "Epoch 87/100\n",
            "30/30 [==============================] - 0s 13ms/step - loss: 0.2166 - accuracy: 0.9200 - val_loss: 0.3023 - val_accuracy: 0.8938\n",
            "Epoch 88/100\n",
            "30/30 [==============================] - 0s 13ms/step - loss: 0.2178 - accuracy: 0.9190 - val_loss: 0.3027 - val_accuracy: 0.8930\n",
            "Epoch 89/100\n",
            "30/30 [==============================] - 0s 14ms/step - loss: 0.2160 - accuracy: 0.9198 - val_loss: 0.3010 - val_accuracy: 0.8944\n",
            "Epoch 90/100\n",
            "30/30 [==============================] - 0s 12ms/step - loss: 0.2146 - accuracy: 0.9208 - val_loss: 0.2997 - val_accuracy: 0.8960\n",
            "Epoch 91/100\n",
            "30/30 [==============================] - 0s 14ms/step - loss: 0.2150 - accuracy: 0.9211 - val_loss: 0.3049 - val_accuracy: 0.8914\n",
            "Epoch 92/100\n",
            "30/30 [==============================] - 0s 12ms/step - loss: 0.2163 - accuracy: 0.9206 - val_loss: 0.2963 - val_accuracy: 0.8945\n",
            "Epoch 93/100\n",
            "30/30 [==============================] - 0s 12ms/step - loss: 0.2155 - accuracy: 0.9207 - val_loss: 0.2985 - val_accuracy: 0.8965\n",
            "Epoch 94/100\n",
            "30/30 [==============================] - 0s 12ms/step - loss: 0.2206 - accuracy: 0.9186 - val_loss: 0.3001 - val_accuracy: 0.8950\n",
            "Epoch 95/100\n",
            "30/30 [==============================] - 0s 13ms/step - loss: 0.2128 - accuracy: 0.9214 - val_loss: 0.2977 - val_accuracy: 0.8953\n",
            "Epoch 96/100\n",
            "30/30 [==============================] - 0s 14ms/step - loss: 0.2080 - accuracy: 0.9233 - val_loss: 0.2973 - val_accuracy: 0.8961\n",
            "Epoch 97/100\n",
            "30/30 [==============================] - 0s 12ms/step - loss: 0.2092 - accuracy: 0.9235 - val_loss: 0.3143 - val_accuracy: 0.8894\n",
            "Epoch 98/100\n",
            "30/30 [==============================] - 0s 13ms/step - loss: 0.2113 - accuracy: 0.9221 - val_loss: 0.3013 - val_accuracy: 0.8938\n",
            "Epoch 99/100\n",
            "30/30 [==============================] - 0s 13ms/step - loss: 0.2082 - accuracy: 0.9231 - val_loss: 0.3099 - val_accuracy: 0.8931\n",
            "Epoch 100/100\n",
            "30/30 [==============================] - 0s 15ms/step - loss: 0.2103 - accuracy: 0.9225 - val_loss: 0.2931 - val_accuracy: 0.8963\n"
          ]
        },
        {
          "output_type": "execute_result",
          "data": {
            "text/plain": [
              "<keras.callbacks.History at 0x7f4cc17c5990>"
            ]
          },
          "metadata": {},
          "execution_count": 8
        }
      ],
      "source": [
        "from sklearn import metrics\n",
        "# TODO: Compile and fit your model\n",
        "import os\n",
        "\n",
        "# os.environ['KMP_DUPLICATE_LIB_OK']='True' #https://stackoverflow.com/questions/53014306/error-15-initializing-libiomp5-dylib-but-found-libiomp5-dylib-already-initial\n",
        "\n",
        "\n",
        "from tensorflow.keras.callbacks import EarlyStopping\n",
        "from tensorflow.keras.callbacks import TensorBoard\n",
        "\n",
        "model = lenet5()\n",
        "\n",
        "model.compile(optimizer = 'adam', loss='categorical_crossentropy', metrics=['accuracy'])\n",
        "\n",
        "# Define now our callbacks\n",
        "# callbacks = [EarlyStopping(monitor='val_loss', patience=10), TensorBoard(log_dir='./keras-logs', histogram_freq=0, write_graph=True, write_images=True)]\n",
        "callbacks = [EarlyStopping(monitor='val_loss', patience=10)]\n",
        "\n",
        "# Finally fit the model\n",
        "model.fit(x=X_train_norm, y=y_train_cat, validation_data=(X_test_norm, y_test_cat), epochs=100, batch_size=2048, callbacks=callbacks)"
      ]
    },
    {
      "cell_type": "markdown",
      "metadata": {
        "id": "Rf-SqjjOyO8q"
      },
      "source": [
        "Have a look at the tensorboard and see if it gives a deeper understanding of your model."
      ]
    },
    {
      "cell_type": "markdown",
      "metadata": {
        "id": "k2FTj7TSyO8q"
      },
      "source": [
        "Compute then the accuracy of your model. Is it better than a regular MLP used before?"
      ]
    },
    {
      "cell_type": "code",
      "execution_count": 9,
      "metadata": {
        "colab": {
          "base_uri": "https://localhost:8080/"
        },
        "id": "rPjJoMQZyO8q",
        "outputId": "53a92c0e-d884-4757-8d81-c20439c3a767"
      },
      "outputs": [
        {
          "output_type": "stream",
          "name": "stdout",
          "text": [
            "59/59 [==============================] - 0s 3ms/step\n",
            "10/10 [==============================] - 0s 12ms/step\n",
            "accuracy on train with NN: 0.9274333333333333\n",
            "accuracy on test with NN: 0.8963\n"
          ]
        }
      ],
      "source": [
        "# TODO: Compute the accuracy of your model\n",
        "from sklearn.metrics import accuracy_score\n",
        "\n",
        "bs = 1024\n",
        "y_pred_train = to_categorical(model.predict(X_train_norm, batch_size=bs).argmax(axis=1), num_classes=10)\n",
        "y_pred_test = to_categorical(model.predict(X_test_norm, batch_size=bs).argmax(axis=1), num_classes=10)\n",
        "\n",
        "print('accuracy on train with NN:', accuracy_score(y_pred_train, y_train_cat))\n",
        "print('accuracy on test with NN:', accuracy_score(y_pred_test, y_test_cat))"
      ]
    },
    {
      "cell_type": "markdown",
      "metadata": {
        "id": "1vulsgHiyO8q"
      },
      "source": [
        "We will now add image augmentation to improve our results, especially we will try to reduce overfitting this way.\n",
        "\n",
        "To do so, you can use `ImageDataGenerator` from Keras that makes all the work for you (including rescaling), with the following parameter: \n",
        "* `horizontal_flip=True`\n",
        "\n",
        "For more info about how the `ImageDataGenerator` works, you can check out [this article](https://www.pyimagesearch.com/2019/07/08/keras-imagedatagenerator-and-data-augmentation/).\n",
        "\n",
        "Begin by creating an object `ImageDataGenerator` with this parameter."
      ]
    },
    {
      "cell_type": "code",
      "execution_count": 10,
      "metadata": {
        "ExecuteTime": {
          "end_time": "2020-08-19T11:58:37.442182Z",
          "start_time": "2020-08-19T11:58:37.438397Z"
        },
        "id": "pas-fMSIyO8q"
      },
      "outputs": [],
      "source": [
        "# TODO: Instantiate an ImageDataGenerator object\n",
        "from tensorflow.keras.preprocessing.image import ImageDataGenerator\n",
        "\n",
        "datagen = ImageDataGenerator(horizontal_flip=True)"
      ]
    },
    {
      "cell_type": "markdown",
      "metadata": {
        "id": "k7nCnu9syO8r"
      },
      "source": [
        "Finally, you can train your model using this generator, with the method `fit_generator` of your model and the method `flow` of your `ImageDataGenerator`."
      ]
    },
    {
      "cell_type": "code",
      "execution_count": 11,
      "metadata": {
        "colab": {
          "base_uri": "https://localhost:8080/"
        },
        "id": "Zt6wXa3IyO8r",
        "outputId": "73b124f7-4919-45a0-8028-96443609d105",
        "scrolled": true
      },
      "outputs": [
        {
          "output_type": "stream",
          "name": "stdout",
          "text": [
            "Epoch 1/100\n"
          ]
        },
        {
          "output_type": "stream",
          "name": "stderr",
          "text": [
            "<ipython-input-11-5da9cbf7d7d8>:3: UserWarning: `Model.fit_generator` is deprecated and will be removed in a future version. Please use `Model.fit`, which supports generators.\n",
            "  model.fit_generator(datagen.flow(X_train_norm, y_train_cat, batch_size=batch_size),\n"
          ]
        },
        {
          "output_type": "stream",
          "name": "stdout",
          "text": [
            "58/58 [==============================] - 4s 55ms/step - loss: 0.4508 - accuracy: 0.8594 - val_loss: 0.3155 - val_accuracy: 0.8880\n",
            "Epoch 2/100\n",
            "58/58 [==============================] - 3s 54ms/step - loss: 0.2882 - accuracy: 0.8953 - val_loss: 0.2999 - val_accuracy: 0.8915\n",
            "Epoch 3/100\n",
            "58/58 [==============================] - 3s 55ms/step - loss: 0.2738 - accuracy: 0.8997 - val_loss: 0.2998 - val_accuracy: 0.8927\n",
            "Epoch 4/100\n",
            "58/58 [==============================] - 3s 53ms/step - loss: 0.2666 - accuracy: 0.9017 - val_loss: 0.3015 - val_accuracy: 0.8880\n",
            "Epoch 5/100\n",
            "58/58 [==============================] - 3s 45ms/step - loss: 0.2592 - accuracy: 0.9043 - val_loss: 0.2983 - val_accuracy: 0.8929\n",
            "Epoch 6/100\n",
            "58/58 [==============================] - 3s 44ms/step - loss: 0.2552 - accuracy: 0.9063 - val_loss: 0.2921 - val_accuracy: 0.8945\n",
            "Epoch 7/100\n",
            "58/58 [==============================] - 3s 44ms/step - loss: 0.2487 - accuracy: 0.9083 - val_loss: 0.2915 - val_accuracy: 0.8957\n",
            "Epoch 8/100\n",
            "58/58 [==============================] - 3s 56ms/step - loss: 0.2502 - accuracy: 0.9075 - val_loss: 0.2875 - val_accuracy: 0.8958\n",
            "Epoch 9/100\n",
            "58/58 [==============================] - 3s 54ms/step - loss: 0.2477 - accuracy: 0.9086 - val_loss: 0.2970 - val_accuracy: 0.8918\n",
            "Epoch 10/100\n",
            "58/58 [==============================] - 3s 58ms/step - loss: 0.2416 - accuracy: 0.9110 - val_loss: 0.2918 - val_accuracy: 0.8939\n",
            "Epoch 11/100\n",
            "58/58 [==============================] - 3s 45ms/step - loss: 0.2371 - accuracy: 0.9124 - val_loss: 0.2895 - val_accuracy: 0.8953\n",
            "Epoch 12/100\n",
            "58/58 [==============================] - 2s 42ms/step - loss: 0.2370 - accuracy: 0.9122 - val_loss: 0.2960 - val_accuracy: 0.8949\n",
            "Epoch 13/100\n",
            "58/58 [==============================] - 3s 55ms/step - loss: 0.2352 - accuracy: 0.9139 - val_loss: 0.2929 - val_accuracy: 0.8964\n",
            "Epoch 14/100\n",
            "58/58 [==============================] - 3s 57ms/step - loss: 0.2328 - accuracy: 0.9140 - val_loss: 0.2856 - val_accuracy: 0.8984\n",
            "Epoch 15/100\n",
            "58/58 [==============================] - 3s 45ms/step - loss: 0.2291 - accuracy: 0.9149 - val_loss: 0.2923 - val_accuracy: 0.8942\n",
            "Epoch 16/100\n",
            "58/58 [==============================] - 4s 61ms/step - loss: 0.2308 - accuracy: 0.9141 - val_loss: 0.2914 - val_accuracy: 0.8969\n",
            "Epoch 17/100\n",
            "58/58 [==============================] - 3s 44ms/step - loss: 0.2309 - accuracy: 0.9132 - val_loss: 0.2839 - val_accuracy: 0.8992\n",
            "Epoch 18/100\n",
            "58/58 [==============================] - 3s 45ms/step - loss: 0.2277 - accuracy: 0.9153 - val_loss: 0.2858 - val_accuracy: 0.8968\n",
            "Epoch 19/100\n",
            "58/58 [==============================] - 3s 43ms/step - loss: 0.2241 - accuracy: 0.9166 - val_loss: 0.2849 - val_accuracy: 0.8969\n",
            "Epoch 20/100\n",
            "58/58 [==============================] - 4s 62ms/step - loss: 0.2264 - accuracy: 0.9173 - val_loss: 0.2976 - val_accuracy: 0.8920\n",
            "Epoch 21/100\n",
            "58/58 [==============================] - 3s 47ms/step - loss: 0.2227 - accuracy: 0.9171 - val_loss: 0.2823 - val_accuracy: 0.8982\n",
            "Epoch 22/100\n",
            "58/58 [==============================] - 4s 60ms/step - loss: 0.2205 - accuracy: 0.9181 - val_loss: 0.2882 - val_accuracy: 0.8958\n",
            "Epoch 23/100\n",
            "58/58 [==============================] - 2s 42ms/step - loss: 0.2170 - accuracy: 0.9196 - val_loss: 0.2816 - val_accuracy: 0.8989\n",
            "Epoch 24/100\n",
            "58/58 [==============================] - 3s 57ms/step - loss: 0.2180 - accuracy: 0.9192 - val_loss: 0.2828 - val_accuracy: 0.8993\n",
            "Epoch 25/100\n",
            "58/58 [==============================] - 3s 57ms/step - loss: 0.2157 - accuracy: 0.9188 - val_loss: 0.2877 - val_accuracy: 0.8976\n",
            "Epoch 26/100\n",
            "58/58 [==============================] - 4s 63ms/step - loss: 0.2154 - accuracy: 0.9193 - val_loss: 0.2865 - val_accuracy: 0.8998\n",
            "Epoch 27/100\n",
            "58/58 [==============================] - 3s 43ms/step - loss: 0.2158 - accuracy: 0.9196 - val_loss: 0.2800 - val_accuracy: 0.8974\n",
            "Epoch 28/100\n",
            "58/58 [==============================] - 3s 44ms/step - loss: 0.2144 - accuracy: 0.9194 - val_loss: 0.2943 - val_accuracy: 0.8961\n",
            "Epoch 29/100\n",
            "58/58 [==============================] - 3s 49ms/step - loss: 0.2133 - accuracy: 0.9202 - val_loss: 0.2830 - val_accuracy: 0.8991\n",
            "Epoch 30/100\n",
            "58/58 [==============================] - 3s 54ms/step - loss: 0.2095 - accuracy: 0.9215 - val_loss: 0.2775 - val_accuracy: 0.8988\n",
            "Epoch 31/100\n",
            "58/58 [==============================] - 3s 54ms/step - loss: 0.2064 - accuracy: 0.9232 - val_loss: 0.2920 - val_accuracy: 0.8946\n",
            "Epoch 32/100\n",
            "58/58 [==============================] - 3s 45ms/step - loss: 0.2082 - accuracy: 0.9217 - val_loss: 0.2892 - val_accuracy: 0.8960\n",
            "Epoch 33/100\n",
            "58/58 [==============================] - 4s 62ms/step - loss: 0.2078 - accuracy: 0.9230 - val_loss: 0.2782 - val_accuracy: 0.9006\n",
            "Epoch 34/100\n",
            "58/58 [==============================] - 3s 44ms/step - loss: 0.2017 - accuracy: 0.9258 - val_loss: 0.2860 - val_accuracy: 0.8976\n",
            "Epoch 35/100\n",
            "58/58 [==============================] - 2s 43ms/step - loss: 0.2024 - accuracy: 0.9254 - val_loss: 0.2840 - val_accuracy: 0.8974\n",
            "Epoch 36/100\n",
            "58/58 [==============================] - 2s 42ms/step - loss: 0.2023 - accuracy: 0.9246 - val_loss: 0.2812 - val_accuracy: 0.9005\n",
            "Epoch 37/100\n",
            "58/58 [==============================] - 3s 58ms/step - loss: 0.2020 - accuracy: 0.9237 - val_loss: 0.2957 - val_accuracy: 0.8952\n",
            "Epoch 38/100\n",
            "58/58 [==============================] - 3s 55ms/step - loss: 0.1982 - accuracy: 0.9257 - val_loss: 0.2818 - val_accuracy: 0.9011\n",
            "Epoch 39/100\n",
            "58/58 [==============================] - 3s 45ms/step - loss: 0.2000 - accuracy: 0.9253 - val_loss: 0.2887 - val_accuracy: 0.9003\n",
            "Epoch 40/100\n",
            "58/58 [==============================] - 3s 56ms/step - loss: 0.1992 - accuracy: 0.9256 - val_loss: 0.2839 - val_accuracy: 0.9020\n"
          ]
        },
        {
          "output_type": "execute_result",
          "data": {
            "text/plain": [
              "<keras.callbacks.History at 0x7f4c2d5a5540>"
            ]
          },
          "metadata": {},
          "execution_count": 11
        }
      ],
      "source": [
        "# TODO: train your model\n",
        "batch_size = 1024\n",
        "model.fit_generator(datagen.flow(X_train_norm, y_train_cat, batch_size=batch_size),\n",
        "                    validation_data=(X_test_norm, y_test_cat), callbacks=callbacks,\n",
        "                    steps_per_epoch=len(X_train_norm) / batch_size, epochs=100)"
      ]
    },
    {
      "cell_type": "markdown",
      "metadata": {
        "id": "NuzFke8pyO8r"
      },
      "source": [
        "Recompute the accuracy of your model, does it improve your performances with data augmentation?"
      ]
    },
    {
      "cell_type": "code",
      "execution_count": 14,
      "metadata": {
        "colab": {
          "base_uri": "https://localhost:8080/"
        },
        "id": "jsTm86tuyO8r",
        "outputId": "c375dcf3-9fbc-4498-8f05-e8e5e7907553"
      },
      "outputs": [
        {
          "output_type": "stream",
          "name": "stdout",
          "text": [
            "59/59 [==============================] - 0s 3ms/step\n",
            "10/10 [==============================] - 0s 3ms/step\n",
            "accuracy on train with NN: 0.9309333333333333\n",
            "accuracy on test with NN: 0.902\n"
          ]
        }
      ],
      "source": [
        "# TODO: Compute the accuracy of your model\n",
        "from sklearn.metrics import accuracy_score\n",
        "\n",
        "batch_size=1024\n",
        "y_pred_train = to_categorical(model.predict(X_train_norm, batch_size).argmax(axis=1), num_classes=10)\n",
        "y_pred_test = to_categorical(model.predict(X_test_norm, batch_size).argmax(axis=1), num_classes=10)\n",
        "\n",
        "print('accuracy on train with NN:', accuracy_score(y_pred_train, y_train_cat))\n",
        "print('accuracy on test with NN:', accuracy_score(y_pred_test, y_test_cat))"
      ]
    },
    {
      "cell_type": "markdown",
      "metadata": {
        "id": "jOzkdGf7yO8s"
      },
      "source": [
        "You can now try to improve even more your results. For example, add more parameters to your `ImageDataGenerator`, play with some hyperparameters, and so on..."
      ]
    }
  ],
  "metadata": {
    "accelerator": "GPU",
    "colab": {
      "name": "01-LeNet5-solution.ipynb",
      "provenance": [],
      "include_colab_link": true
    },
    "kernelspec": {
      "display_name": "Python 3",
      "language": "python",
      "name": "python3"
    },
    "language_info": {
      "codemirror_mode": {
        "name": "ipython",
        "version": 3
      },
      "file_extension": ".py",
      "mimetype": "text/x-python",
      "name": "python",
      "nbconvert_exporter": "python",
      "pygments_lexer": "ipython3",
      "version": "3.7.4"
    },
    "toc": {
      "base_numbering": 1,
      "nav_menu": {},
      "number_sections": true,
      "sideBar": true,
      "skip_h1_title": false,
      "title_cell": "Table of Contents",
      "title_sidebar": "Contents",
      "toc_cell": false,
      "toc_position": {},
      "toc_section_display": true,
      "toc_window_display": false
    },
    "varInspector": {
      "cols": {
        "lenName": 16,
        "lenType": 16,
        "lenVar": 40
      },
      "kernels_config": {
        "python": {
          "delete_cmd_postfix": "",
          "delete_cmd_prefix": "del ",
          "library": "var_list.py",
          "varRefreshCmd": "print(var_dic_list())"
        },
        "r": {
          "delete_cmd_postfix": ") ",
          "delete_cmd_prefix": "rm(",
          "library": "var_list.r",
          "varRefreshCmd": "cat(var_dic_list()) "
        }
      },
      "types_to_exclude": [
        "module",
        "function",
        "builtin_function_or_method",
        "instance",
        "_Feature"
      ],
      "window_display": false
    },
    "gpuClass": "standard"
  },
  "nbformat": 4,
  "nbformat_minor": 0
}